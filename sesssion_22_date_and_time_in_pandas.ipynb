{
 "cells": [
  {
   "cell_type": "code",
   "execution_count": 34,
   "metadata": {
    "id": "FuP2atHNtHbr"
   },
   "outputs": [],
   "source": [
    "import pandas as pd\n",
    "import numpy as np\n",
    "import os\n",
    "os.chdir('D:\\CampusX\\Data')"
   ]
  },
  {
   "cell_type": "markdown",
   "metadata": {
    "id": "GEXZCSwWthTK"
   },
   "source": [
    "### Timestamp Object\n",
    "\n",
    "Time stamps reference particular moments in time (e.g., Oct 24th, 2022 at 7:00pm)"
   ]
  },
  {
   "cell_type": "markdown",
   "metadata": {
    "id": "XH2gU7GZvKB6"
   },
   "source": [
    "### Creating Timestamp objects"
   ]
  },
  {
   "cell_type": "code",
   "execution_count": 2,
   "metadata": {
    "colab": {
     "base_uri": "https://localhost:8080/"
    },
    "id": "Y52x2MS-0ct7",
    "outputId": "8e118ff3-ec81-4ee7-9a40-08d1a6e453ad"
   },
   "outputs": [
    {
     "data": {
      "text/plain": [
       "pandas._libs.tslibs.timestamps.Timestamp"
      ]
     },
     "execution_count": 2,
     "metadata": {},
     "output_type": "execute_result"
    }
   ],
   "source": [
    "# creating a timestamp\n",
    "type(pd.Timestamp('2023/1/5'))"
   ]
  },
  {
   "cell_type": "code",
   "execution_count": 3,
   "metadata": {
    "colab": {
     "base_uri": "https://localhost:8080/"
    },
    "id": "bj-V1BMotPLC",
    "outputId": "ac31013f-a5d2-47e2-eb32-feffa4620793"
   },
   "outputs": [
    {
     "data": {
      "text/plain": [
       "Timestamp('2023-01-05 00:00:00')"
      ]
     },
     "execution_count": 3,
     "metadata": {},
     "output_type": "execute_result"
    }
   ],
   "source": [
    "# variations\n",
    "pd.Timestamp('2023-1-5')\n",
    "pd.Timestamp('2023, 1, 5')"
   ]
  },
  {
   "cell_type": "code",
   "execution_count": 4,
   "metadata": {
    "colab": {
     "base_uri": "https://localhost:8080/"
    },
    "id": "mB-UXNVD0jyl",
    "outputId": "b087253e-70f2-4ce7-817f-17124fab9512"
   },
   "outputs": [
    {
     "data": {
      "text/plain": [
       "Timestamp('2023-01-01 00:00:00')"
      ]
     },
     "execution_count": 4,
     "metadata": {},
     "output_type": "execute_result"
    }
   ],
   "source": [
    "# only year\n",
    "pd.Timestamp('2023')"
   ]
  },
  {
   "cell_type": "code",
   "execution_count": 5,
   "metadata": {
    "colab": {
     "base_uri": "https://localhost:8080/"
    },
    "id": "iY1GA2Eb0osz",
    "outputId": "96cdbd12-a5f9-4494-fa2c-5b0440fb53ff"
   },
   "outputs": [
    {
     "data": {
      "text/plain": [
       "Timestamp('2023-01-05 00:00:00')"
      ]
     },
     "execution_count": 5,
     "metadata": {},
     "output_type": "execute_result"
    }
   ],
   "source": [
    "# using text\n",
    "pd.Timestamp('5th January 2023')"
   ]
  },
  {
   "cell_type": "code",
   "execution_count": 6,
   "metadata": {
    "colab": {
     "base_uri": "https://localhost:8080/",
     "height": 295
    },
    "id": "X9kcHRAq0uGf",
    "outputId": "b071370b-da0f-49d2-a5c2-dd9ee66d621f"
   },
   "outputs": [
    {
     "data": {
      "text/plain": [
       "Timestamp('2023-01-05 09:21:00')"
      ]
     },
     "execution_count": 6,
     "metadata": {},
     "output_type": "execute_result"
    }
   ],
   "source": [
    "# providing time also\n",
    "pd.Timestamp('5th January 2023 9:21AM')\n",
    "# pd.Timestamp('2023/1/5/9/21')"
   ]
  },
  {
   "cell_type": "code",
   "execution_count": null,
   "metadata": {
    "id": "AhlvkJz80w2v"
   },
   "outputs": [],
   "source": [
    "# AM and PM"
   ]
  },
  {
   "cell_type": "code",
   "execution_count": 7,
   "metadata": {
    "colab": {
     "base_uri": "https://localhost:8080/"
    },
    "id": "Y18HScxQ0yRT",
    "outputId": "800cb9f7-8774-4213-8f5f-6c203dbec3f3"
   },
   "outputs": [
    {
     "data": {
      "text/plain": [
       "Timestamp('2023-01-05 09:21:56')"
      ]
     },
     "execution_count": 7,
     "metadata": {},
     "output_type": "execute_result"
    }
   ],
   "source": [
    "# using datetime.datetime object\n",
    "import datetime as dt\n",
    "\n",
    "x = pd.Timestamp(dt.datetime(2023,1,5,9,21,56))\n",
    "x"
   ]
  },
  {
   "cell_type": "code",
   "execution_count": 9,
   "metadata": {},
   "outputs": [
    {
     "data": {
      "text/plain": [
       "1"
      ]
     },
     "execution_count": 9,
     "metadata": {},
     "output_type": "execute_result"
    }
   ],
   "source": [
    "x.month"
   ]
  },
  {
   "cell_type": "code",
   "execution_count": 8,
   "metadata": {
    "colab": {
     "base_uri": "https://localhost:8080/"
    },
    "id": "oY00r9U71OK4",
    "outputId": "d95471a1-1004-4ef3-db80-954f91cdc641"
   },
   "outputs": [
    {
     "data": {
      "text/plain": [
       "56"
      ]
     },
     "execution_count": 8,
     "metadata": {},
     "output_type": "execute_result"
    }
   ],
   "source": [
    "# fetching attributes\n",
    "x.year\n",
    "x.month\n",
    "x.day\n",
    "x.hour\n",
    "x.minute\n",
    "x.second"
   ]
  },
  {
   "cell_type": "code",
   "execution_count": null,
   "metadata": {
    "id": "fVzCjSjJAZBE"
   },
   "outputs": [],
   "source": [
    "# why separate objects to handle data and time when python already has datetime functionality?"
   ]
  },
  {
   "cell_type": "markdown",
   "metadata": {
    "id": "97HDE2UJXyoT"
   },
   "source": [
    "- syntax wise datetime is very convenient\n",
    "- But the performance takes a hit while working with huge data. List vs Numpy Array\n",
    "- The weaknesses of Python's datetime format inspired the NumPy team to add a set of native time series data type to NumPy.\n",
    "- The datetime64 dtype encodes dates as 64-bit integers, and thus allows arrays of dates to be represented very compactly."
   ]
  },
  {
   "cell_type": "code",
   "execution_count": 10,
   "metadata": {
    "colab": {
     "base_uri": "https://localhost:8080/"
    },
    "id": "MkuVP85DZyp0",
    "outputId": "2356e543-75d3-45c7-d8fe-cdb877400a6c"
   },
   "outputs": [
    {
     "data": {
      "text/plain": [
       "array('2015-07-04', dtype='datetime64[D]')"
      ]
     },
     "execution_count": 10,
     "metadata": {},
     "output_type": "execute_result"
    }
   ],
   "source": [
    "import numpy as np\n",
    "date = np.array('2015-07-04', dtype=np.datetime64)\n",
    "date"
   ]
  },
  {
   "cell_type": "code",
   "execution_count": 11,
   "metadata": {
    "colab": {
     "base_uri": "https://localhost:8080/"
    },
    "id": "Ak5u64W6aBCS",
    "outputId": "4e2d8f11-b0c9-415e-966b-82a3770e1f5e"
   },
   "outputs": [
    {
     "data": {
      "text/plain": [
       "array(['2015-07-04', '2015-07-05', '2015-07-06', '2015-07-07',\n",
       "       '2015-07-08', '2015-07-09', '2015-07-10', '2015-07-11',\n",
       "       '2015-07-12', '2015-07-13', '2015-07-14', '2015-07-15'],\n",
       "      dtype='datetime64[D]')"
      ]
     },
     "execution_count": 11,
     "metadata": {},
     "output_type": "execute_result"
    }
   ],
   "source": [
    "date + np.arange(12)"
   ]
  },
  {
   "cell_type": "markdown",
   "metadata": {
    "id": "qyORT7KHZ29h"
   },
   "source": [
    "- Because of the uniform type in NumPy datetime64 arrays, this type of operation can be accomplished much more quickly than if we were working directly with Python's datetime objects, especially as arrays get large\n",
    "\n",
    "- Pandas Timestamp object combines the ease-of-use of python datetime with the efficient storage and vectorized interface of numpy.datetime64\n",
    "\n",
    "- From a group of these Timestamp objects, Pandas can construct a DatetimeIndex that can be used to index data in a Series or DataFrame"
   ]
  },
  {
   "cell_type": "markdown",
   "metadata": {
    "id": "eQQXAaHDxP8n"
   },
   "source": [
    "### DatetimeIndex Object\n",
    "\n",
    "A collection of pandas timestamp"
   ]
  },
  {
   "cell_type": "code",
   "execution_count": 12,
   "metadata": {
    "colab": {
     "base_uri": "https://localhost:8080/"
    },
    "id": "3nI4CFQaxx84",
    "outputId": "a71b1a99-d611-4a2b-b86d-52bc649b411c"
   },
   "outputs": [
    {
     "data": {
      "text/plain": [
       "pandas.core.indexes.datetimes.DatetimeIndex"
      ]
     },
     "execution_count": 12,
     "metadata": {},
     "output_type": "execute_result"
    }
   ],
   "source": [
    "# from strings\n",
    "type(pd.DatetimeIndex(['2023/1/1','2022/1/1','2021/1/1']))"
   ]
  },
  {
   "cell_type": "code",
   "execution_count": 13,
   "metadata": {
    "colab": {
     "base_uri": "https://localhost:8080/"
    },
    "id": "prE2fraR1l3F",
    "outputId": "eb310ee6-6bc9-4f6a-d9b4-d080cbd8e235"
   },
   "outputs": [
    {
     "data": {
      "text/plain": [
       "DatetimeIndex(['2023-01-01', '2022-01-01', '2021-01-01'], dtype='datetime64[ns]', freq=None)"
      ]
     },
     "execution_count": 13,
     "metadata": {},
     "output_type": "execute_result"
    }
   ],
   "source": [
    "# using python datetime object\n",
    "pd.DatetimeIndex([dt.datetime(2023,1,1),dt.datetime(2022,1,1),dt.datetime(2021,1,1)])"
   ]
  },
  {
   "cell_type": "code",
   "execution_count": 14,
   "metadata": {
    "id": "KwFtOizE1qAT"
   },
   "outputs": [],
   "source": [
    "# using pd.timestamps\n",
    "dt_index = pd.DatetimeIndex([pd.Timestamp(2023,1,1),pd.Timestamp(2022,1,1),pd.Timestamp(2021,1,1)])"
   ]
  },
  {
   "cell_type": "code",
   "execution_count": 15,
   "metadata": {
    "colab": {
     "base_uri": "https://localhost:8080/"
    },
    "id": "f8FOZZ1z1tCL",
    "outputId": "a881eebb-1a0c-4f49-87c5-c87a0613f6b0"
   },
   "outputs": [
    {
     "data": {
      "text/plain": [
       "2023-01-01    1\n",
       "2022-01-01    2\n",
       "2021-01-01    3\n",
       "dtype: int64"
      ]
     },
     "execution_count": 15,
     "metadata": {},
     "output_type": "execute_result"
    }
   ],
   "source": [
    "# using datatimeindex as series index\n",
    "\n",
    "pd.Series([1,2,3],index=dt_index)"
   ]
  },
  {
   "cell_type": "markdown",
   "metadata": {
    "id": "qxnmC74IxyjI"
   },
   "source": [
    "### date_range function\n",
    "\n"
   ]
  },
  {
   "cell_type": "code",
   "execution_count": 16,
   "metadata": {
    "colab": {
     "base_uri": "https://localhost:8080/"
    },
    "id": "tzDg9BOjx1is",
    "outputId": "953e6978-5779-43fe-a446-f849da41ad46"
   },
   "outputs": [
    {
     "data": {
      "text/plain": [
       "DatetimeIndex(['2023-01-05', '2023-01-08', '2023-01-11', '2023-01-14',\n",
       "               '2023-01-17', '2023-01-20', '2023-01-23', '2023-01-26',\n",
       "               '2023-01-29', '2023-02-01', '2023-02-04', '2023-02-07',\n",
       "               '2023-02-10', '2023-02-13', '2023-02-16', '2023-02-19',\n",
       "               '2023-02-22', '2023-02-25', '2023-02-28'],\n",
       "              dtype='datetime64[ns]', freq='3D')"
      ]
     },
     "execution_count": 16,
     "metadata": {},
     "output_type": "execute_result"
    }
   ],
   "source": [
    "# generate daily dates in a given range\n",
    "pd.date_range(start='2023/1/5',end='2023/2/28',freq='3D') # the end is inclusive"
   ]
  },
  {
   "cell_type": "code",
   "execution_count": 17,
   "metadata": {
    "id": "-5VkFuUr36bU"
   },
   "outputs": [
    {
     "data": {
      "text/plain": [
       "DatetimeIndex(['2023-01-05', '2023-01-08', '2023-01-11', '2023-01-14',\n",
       "               '2023-01-17', '2023-01-20', '2023-01-23', '2023-01-26',\n",
       "               '2023-01-29', '2023-02-01', '2023-02-04', '2023-02-07',\n",
       "               '2023-02-10', '2023-02-13', '2023-02-16', '2023-02-19',\n",
       "               '2023-02-22', '2023-02-25', '2023-02-28'],\n",
       "              dtype='datetime64[ns]', freq='3D')"
      ]
     },
     "execution_count": 17,
     "metadata": {},
     "output_type": "execute_result"
    }
   ],
   "source": [
    "# alternate days in a given range\n",
    "pd.date_range(start='2023/1/5',end='2023/2/28',freq='3D')"
   ]
  },
  {
   "cell_type": "code",
   "execution_count": 18,
   "metadata": {
    "colab": {
     "base_uri": "https://localhost:8080/"
    },
    "id": "4m_PcUOe39xy",
    "outputId": "3c005aea-baca-4ee6-fe9b-90e59151d151"
   },
   "outputs": [
    {
     "data": {
      "text/plain": [
       "DatetimeIndex(['2023-01-05', '2023-01-06', '2023-01-09', '2023-01-10',\n",
       "               '2023-01-11', '2023-01-12', '2023-01-13', '2023-01-16',\n",
       "               '2023-01-17', '2023-01-18', '2023-01-19', '2023-01-20',\n",
       "               '2023-01-23', '2023-01-24', '2023-01-25', '2023-01-26',\n",
       "               '2023-01-27', '2023-01-30', '2023-01-31', '2023-02-01',\n",
       "               '2023-02-02', '2023-02-03', '2023-02-06', '2023-02-07',\n",
       "               '2023-02-08', '2023-02-09', '2023-02-10', '2023-02-13',\n",
       "               '2023-02-14', '2023-02-15', '2023-02-16', '2023-02-17',\n",
       "               '2023-02-20', '2023-02-21', '2023-02-22', '2023-02-23',\n",
       "               '2023-02-24', '2023-02-27', '2023-02-28'],\n",
       "              dtype='datetime64[ns]', freq='B')"
      ]
     },
     "execution_count": 18,
     "metadata": {},
     "output_type": "execute_result"
    }
   ],
   "source": [
    "# B -> business days\n",
    "pd.date_range(start='2023/1/5',end='2023/2/28',freq='B')"
   ]
  },
  {
   "cell_type": "code",
   "execution_count": 19,
   "metadata": {
    "colab": {
     "base_uri": "https://localhost:8080/"
    },
    "id": "QqrrfRvC4QmV",
    "outputId": "aa7fd7dd-3610-45dc-c1e6-76dc06d37004"
   },
   "outputs": [
    {
     "data": {
      "text/plain": [
       "DatetimeIndex(['2023-01-05', '2023-01-12', '2023-01-19', '2023-01-26',\n",
       "               '2023-02-02', '2023-02-09', '2023-02-16', '2023-02-23'],\n",
       "              dtype='datetime64[ns]', freq='W-THU')"
      ]
     },
     "execution_count": 19,
     "metadata": {},
     "output_type": "execute_result"
    }
   ],
   "source": [
    "# W -> one week per day\n",
    "pd.date_range(start='2023/1/5',end='2023/2/28', freq='W-THU')"
   ]
  },
  {
   "cell_type": "code",
   "execution_count": 20,
   "metadata": {
    "colab": {
     "base_uri": "https://localhost:8080/"
    },
    "id": "95b_S-rY4Zt-",
    "outputId": "b6d23cfb-e065-4736-e246-569789b1f8bd"
   },
   "outputs": [
    {
     "data": {
      "text/plain": [
       "DatetimeIndex(['2023-01-05 00:00:00', '2023-01-05 06:00:00',\n",
       "               '2023-01-05 12:00:00', '2023-01-05 18:00:00',\n",
       "               '2023-01-06 00:00:00', '2023-01-06 06:00:00',\n",
       "               '2023-01-06 12:00:00', '2023-01-06 18:00:00',\n",
       "               '2023-01-07 00:00:00', '2023-01-07 06:00:00',\n",
       "               ...\n",
       "               '2023-02-25 18:00:00', '2023-02-26 00:00:00',\n",
       "               '2023-02-26 06:00:00', '2023-02-26 12:00:00',\n",
       "               '2023-02-26 18:00:00', '2023-02-27 00:00:00',\n",
       "               '2023-02-27 06:00:00', '2023-02-27 12:00:00',\n",
       "               '2023-02-27 18:00:00', '2023-02-28 00:00:00'],\n",
       "              dtype='datetime64[ns]', length=217, freq='6H')"
      ]
     },
     "execution_count": 20,
     "metadata": {},
     "output_type": "execute_result"
    }
   ],
   "source": [
    "# H -> Hourly data(factor)\n",
    "pd.date_range(start='2023/1/5',end='2023/2/28', freq='6H')"
   ]
  },
  {
   "cell_type": "code",
   "execution_count": 21,
   "metadata": {
    "colab": {
     "base_uri": "https://localhost:8080/"
    },
    "id": "T4TgV2Mn4oNg",
    "outputId": "2df63168-dfff-4ee1-87ba-6e6bf2365292"
   },
   "outputs": [
    {
     "data": {
      "text/plain": [
       "DatetimeIndex(['2023-01-31', '2023-02-28'], dtype='datetime64[ns]', freq='M')"
      ]
     },
     "execution_count": 21,
     "metadata": {},
     "output_type": "execute_result"
    }
   ],
   "source": [
    "# M -> Month end\n",
    "pd.date_range(start='2023/1/5',end='2023/2/28',freq='M')"
   ]
  },
  {
   "cell_type": "code",
   "execution_count": 22,
   "metadata": {
    "colab": {
     "base_uri": "https://localhost:8080/"
    },
    "id": "biLXdwmM4xFI",
    "outputId": "6158d2a8-488d-4c29-9b14-70220ce1d720"
   },
   "outputs": [
    {
     "data": {
      "text/plain": [
       "DatetimeIndex(['2023-02-01'], dtype='datetime64[ns]', freq='MS')"
      ]
     },
     "execution_count": 22,
     "metadata": {},
     "output_type": "execute_result"
    }
   ],
   "source": [
    "# MS -> Month start\n",
    "pd.date_range(start='2023/1/5',end='2023/2/28',freq='MS')"
   ]
  },
  {
   "cell_type": "code",
   "execution_count": 24,
   "metadata": {
    "colab": {
     "base_uri": "https://localhost:8080/"
    },
    "id": "-OpW9ydF4-_f",
    "outputId": "d17fd89e-bee8-4733-b285-98d801a6bd33"
   },
   "outputs": [
    {
     "data": {
      "text/plain": [
       "DatetimeIndex(['2024-01-01', '2025-01-01', '2026-01-01', '2027-01-01',\n",
       "               '2028-01-01', '2029-01-01', '2030-01-01'],\n",
       "              dtype='datetime64[ns]', freq='AS-JAN')"
      ]
     },
     "execution_count": 24,
     "metadata": {},
     "output_type": "execute_result"
    }
   ],
   "source": [
    "# A -> Year end\n",
    "pd.date_range(start='2023/1/5',end='2030/2/28',freq='A')"
   ]
  },
  {
   "cell_type": "code",
   "execution_count": 28,
   "metadata": {
    "colab": {
     "base_uri": "https://localhost:8080/"
    },
    "id": "zUz1UWoQ5CQD",
    "outputId": "86860c7f-db85-4c2a-db68-28204a23d8d9"
   },
   "outputs": [
    {
     "data": {
      "text/plain": [
       "DatetimeIndex(['2023-01-31', '2023-02-28', '2023-03-31', '2023-04-30',\n",
       "               '2023-05-31', '2023-06-30', '2023-07-31', '2023-08-31',\n",
       "               '2023-09-30', '2023-10-31', '2023-11-30', '2023-12-31',\n",
       "               '2024-01-31', '2024-02-29', '2024-03-31', '2024-04-30',\n",
       "               '2024-05-31', '2024-06-30', '2024-07-31', '2024-08-31',\n",
       "               '2024-09-30', '2024-10-31', '2024-11-30', '2024-12-31',\n",
       "               '2025-01-31'],\n",
       "              dtype='datetime64[ns]', freq='M')"
      ]
     },
     "execution_count": 28,
     "metadata": {},
     "output_type": "execute_result"
    }
   ],
   "source": [
    "# using periods(number of results)\n",
    "pd.date_range(start='2023/1/5',periods=25,freq='M')"
   ]
  },
  {
   "cell_type": "markdown",
   "metadata": {
    "id": "gzxkbZjUx3Hd"
   },
   "source": [
    "### to_datetime function\n",
    "\n",
    "converts an existing objects to pandas timestamp/datetimeindex object"
   ]
  },
  {
   "cell_type": "code",
   "execution_count": 29,
   "metadata": {
    "colab": {
     "base_uri": "https://localhost:8080/"
    },
    "id": "d4smd0-fD1Hw",
    "outputId": "af657c92-004c-4ca2-d800-da112122db93"
   },
   "outputs": [
    {
     "data": {
      "text/plain": [
       "0      Sunday\n",
       "1    Saturday\n",
       "2      Friday\n",
       "dtype: object"
      ]
     },
     "execution_count": 29,
     "metadata": {},
     "output_type": "execute_result"
    }
   ],
   "source": [
    "# simple series example\n",
    "\n",
    "s = pd.Series(['2023/1/1','2022/1/1','2021/1/1'])\n",
    "pd.to_datetime(s).dt.day_name()"
   ]
  },
  {
   "cell_type": "code",
   "execution_count": 31,
   "metadata": {
    "colab": {
     "base_uri": "https://localhost:8080/"
    },
    "id": "eMQPrIPHD3aO",
    "outputId": "7744ab7e-16aa-4d42-f18a-2863c7a33448"
   },
   "outputs": [
    {
     "data": {
      "text/plain": [
       "0    January\n",
       "1    January\n",
       "2        NaN\n",
       "dtype: object"
      ]
     },
     "execution_count": 31,
     "metadata": {},
     "output_type": "execute_result"
    }
   ],
   "source": [
    "# with errors\n",
    "s = pd.Series(['2023/1/1','2022/1/1','2021/130/1'])\n",
    "pd.to_datetime(s,errors='coerce').dt.month_name()"
   ]
  },
  {
   "cell_type": "code",
   "execution_count": 35,
   "metadata": {
    "colab": {
     "base_uri": "https://localhost:8080/"
    },
    "id": "yCCP7dyEx2WO",
    "outputId": "5f85bb01-1c1b-4df9-8353-240c2cda6e00"
   },
   "outputs": [
    {
     "data": {
      "text/plain": [
       "(277, 11)"
      ]
     },
     "execution_count": 35,
     "metadata": {},
     "output_type": "execute_result"
    }
   ],
   "source": [
    "df = pd.read_csv('expense_data.csv')\n",
    "df.shape"
   ]
  },
  {
   "cell_type": "code",
   "execution_count": 36,
   "metadata": {
    "colab": {
     "base_uri": "https://localhost:8080/",
     "height": 206
    },
    "id": "4wkwLHyn-F5T",
    "outputId": "b02ba229-3078-4516-fa14-05ed612addfb"
   },
   "outputs": [
    {
     "data": {
      "text/html": [
       "<div>\n",
       "<style scoped>\n",
       "    .dataframe tbody tr th:only-of-type {\n",
       "        vertical-align: middle;\n",
       "    }\n",
       "\n",
       "    .dataframe tbody tr th {\n",
       "        vertical-align: top;\n",
       "    }\n",
       "\n",
       "    .dataframe thead th {\n",
       "        text-align: right;\n",
       "    }\n",
       "</style>\n",
       "<table border=\"1\" class=\"dataframe\">\n",
       "  <thead>\n",
       "    <tr style=\"text-align: right;\">\n",
       "      <th></th>\n",
       "      <th>Date</th>\n",
       "      <th>Account</th>\n",
       "      <th>Category</th>\n",
       "      <th>Subcategory</th>\n",
       "      <th>Note</th>\n",
       "      <th>INR</th>\n",
       "      <th>Income/Expense</th>\n",
       "      <th>Note.1</th>\n",
       "      <th>Amount</th>\n",
       "      <th>Currency</th>\n",
       "      <th>Account.1</th>\n",
       "    </tr>\n",
       "  </thead>\n",
       "  <tbody>\n",
       "    <tr>\n",
       "      <th>0</th>\n",
       "      <td>3/2/2022 10:11</td>\n",
       "      <td>CUB - online payment</td>\n",
       "      <td>Food</td>\n",
       "      <td>NaN</td>\n",
       "      <td>Brownie</td>\n",
       "      <td>50.0</td>\n",
       "      <td>Expense</td>\n",
       "      <td>NaN</td>\n",
       "      <td>50.0</td>\n",
       "      <td>INR</td>\n",
       "      <td>50.0</td>\n",
       "    </tr>\n",
       "    <tr>\n",
       "      <th>1</th>\n",
       "      <td>3/2/2022 10:11</td>\n",
       "      <td>CUB - online payment</td>\n",
       "      <td>Other</td>\n",
       "      <td>NaN</td>\n",
       "      <td>To lended people</td>\n",
       "      <td>300.0</td>\n",
       "      <td>Expense</td>\n",
       "      <td>NaN</td>\n",
       "      <td>300.0</td>\n",
       "      <td>INR</td>\n",
       "      <td>300.0</td>\n",
       "    </tr>\n",
       "    <tr>\n",
       "      <th>2</th>\n",
       "      <td>3/1/2022 19:50</td>\n",
       "      <td>CUB - online payment</td>\n",
       "      <td>Food</td>\n",
       "      <td>NaN</td>\n",
       "      <td>Dinner</td>\n",
       "      <td>78.0</td>\n",
       "      <td>Expense</td>\n",
       "      <td>NaN</td>\n",
       "      <td>78.0</td>\n",
       "      <td>INR</td>\n",
       "      <td>78.0</td>\n",
       "    </tr>\n",
       "    <tr>\n",
       "      <th>3</th>\n",
       "      <td>3/1/2022 18:56</td>\n",
       "      <td>CUB - online payment</td>\n",
       "      <td>Transportation</td>\n",
       "      <td>NaN</td>\n",
       "      <td>Metro</td>\n",
       "      <td>30.0</td>\n",
       "      <td>Expense</td>\n",
       "      <td>NaN</td>\n",
       "      <td>30.0</td>\n",
       "      <td>INR</td>\n",
       "      <td>30.0</td>\n",
       "    </tr>\n",
       "    <tr>\n",
       "      <th>4</th>\n",
       "      <td>3/1/2022 18:22</td>\n",
       "      <td>CUB - online payment</td>\n",
       "      <td>Food</td>\n",
       "      <td>NaN</td>\n",
       "      <td>Snacks</td>\n",
       "      <td>67.0</td>\n",
       "      <td>Expense</td>\n",
       "      <td>NaN</td>\n",
       "      <td>67.0</td>\n",
       "      <td>INR</td>\n",
       "      <td>67.0</td>\n",
       "    </tr>\n",
       "  </tbody>\n",
       "</table>\n",
       "</div>"
      ],
      "text/plain": [
       "             Date               Account        Category  Subcategory  \\\n",
       "0  3/2/2022 10:11  CUB - online payment            Food          NaN   \n",
       "1  3/2/2022 10:11  CUB - online payment           Other          NaN   \n",
       "2  3/1/2022 19:50  CUB - online payment            Food          NaN   \n",
       "3  3/1/2022 18:56  CUB - online payment  Transportation          NaN   \n",
       "4  3/1/2022 18:22  CUB - online payment            Food          NaN   \n",
       "\n",
       "               Note    INR Income/Expense  Note.1  Amount Currency  Account.1  \n",
       "0           Brownie   50.0        Expense     NaN    50.0      INR       50.0  \n",
       "1  To lended people  300.0        Expense     NaN   300.0      INR      300.0  \n",
       "2            Dinner   78.0        Expense     NaN    78.0      INR       78.0  \n",
       "3             Metro   30.0        Expense     NaN    30.0      INR       30.0  \n",
       "4            Snacks   67.0        Expense     NaN    67.0      INR       67.0  "
      ]
     },
     "execution_count": 36,
     "metadata": {},
     "output_type": "execute_result"
    }
   ],
   "source": [
    "df.head()"
   ]
  },
  {
   "cell_type": "code",
   "execution_count": 37,
   "metadata": {
    "id": "-RyeFdJful1r"
   },
   "outputs": [],
   "source": [
    "df['Date'] = pd.to_datetime(df['Date'])"
   ]
  },
  {
   "cell_type": "code",
   "execution_count": 38,
   "metadata": {
    "colab": {
     "base_uri": "https://localhost:8080/"
    },
    "id": "LUeZsnxmu2OL",
    "outputId": "f05b21f5-ad0b-4fc7-a88a-b057dbce73ea"
   },
   "outputs": [
    {
     "name": "stdout",
     "output_type": "stream",
     "text": [
      "<class 'pandas.core.frame.DataFrame'>\n",
      "RangeIndex: 277 entries, 0 to 276\n",
      "Data columns (total 11 columns):\n",
      " #   Column          Non-Null Count  Dtype         \n",
      "---  ------          --------------  -----         \n",
      " 0   Date            277 non-null    datetime64[ns]\n",
      " 1   Account         277 non-null    object        \n",
      " 2   Category        277 non-null    object        \n",
      " 3   Subcategory     0 non-null      float64       \n",
      " 4   Note            273 non-null    object        \n",
      " 5   INR             277 non-null    float64       \n",
      " 6   Income/Expense  277 non-null    object        \n",
      " 7   Note.1          0 non-null      float64       \n",
      " 8   Amount          277 non-null    float64       \n",
      " 9   Currency        277 non-null    object        \n",
      " 10  Account.1       277 non-null    float64       \n",
      "dtypes: datetime64[ns](1), float64(5), object(5)\n",
      "memory usage: 23.9+ KB\n"
     ]
    }
   ],
   "source": [
    "df.info()"
   ]
  },
  {
   "cell_type": "markdown",
   "metadata": {
    "id": "Y3yo25n0x6dn"
   },
   "source": [
    "### dt accessor\n",
    "\n",
    "Accessor object for datetimelike properties of the Series values."
   ]
  },
  {
   "cell_type": "code",
   "execution_count": 40,
   "metadata": {
    "colab": {
     "base_uri": "https://localhost:8080/"
    },
    "id": "rIJ6Yvmjx7xw",
    "outputId": "8c25fcc2-7e4c-4799-eac6-122770dfd8c6"
   },
   "outputs": [
    {
     "data": {
      "text/plain": [
       "0      False\n",
       "1      False\n",
       "2      False\n",
       "3      False\n",
       "4      False\n",
       "       ...  \n",
       "272    False\n",
       "273    False\n",
       "274    False\n",
       "275    False\n",
       "276    False\n",
       "Name: Date, Length: 277, dtype: bool"
      ]
     },
     "execution_count": 40,
     "metadata": {},
     "output_type": "execute_result"
    }
   ],
   "source": [
    "df['Date'].dt.is_quarter_start"
   ]
  },
  {
   "cell_type": "code",
   "execution_count": null,
   "metadata": {
    "colab": {
     "base_uri": "https://localhost:8080/",
     "height": 282
    },
    "id": "b1X1vV3h-klR",
    "outputId": "df91822d-85db-4b92-9d6e-1dd854b93986"
   },
   "outputs": [
    {
     "data": {
      "text/plain": [
       "[<matplotlib.lines.Line2D at 0x7f89b2206880>]"
      ]
     },
     "execution_count": 84,
     "metadata": {},
     "output_type": "execute_result"
    },
    {
     "data": {
      "image/png": "[encoded data removed]",
      "text/plain": [
       "<Figure size 432x288 with 1 Axes>"
      ]
     },
     "metadata": {
      "needs_background": "light"
     },
     "output_type": "display_data"
    }
   ],
   "source": [
    "# plot graph\n",
    "import matplotlib.pyplot as plt\n",
    "plt.plot(df['Date'],df['INR'])"
   ]
  },
  {
   "cell_type": "code",
   "execution_count": 41,
   "metadata": {
    "id": "F5aCfRqJEQHP"
   },
   "outputs": [],
   "source": [
    "# day name wise bar chart/month wise bar chart\n",
    "\n",
    "df['day_name'] = df['Date'].dt.day_name()"
   ]
  },
  {
   "cell_type": "code",
   "execution_count": 42,
   "metadata": {
    "colab": {
     "base_uri": "https://localhost:8080/",
     "height": 337
    },
    "id": "7dhq_RFuvirp",
    "outputId": "8c701d91-9847-4bf9-9506-2a568a4b775d"
   },
   "outputs": [
    {
     "data": {
      "text/html": [
       "<div>\n",
       "<style scoped>\n",
       "    .dataframe tbody tr th:only-of-type {\n",
       "        vertical-align: middle;\n",
       "    }\n",
       "\n",
       "    .dataframe tbody tr th {\n",
       "        vertical-align: top;\n",
       "    }\n",
       "\n",
       "    .dataframe thead th {\n",
       "        text-align: right;\n",
       "    }\n",
       "</style>\n",
       "<table border=\"1\" class=\"dataframe\">\n",
       "  <thead>\n",
       "    <tr style=\"text-align: right;\">\n",
       "      <th></th>\n",
       "      <th>Date</th>\n",
       "      <th>Account</th>\n",
       "      <th>Category</th>\n",
       "      <th>Subcategory</th>\n",
       "      <th>Note</th>\n",
       "      <th>INR</th>\n",
       "      <th>Income/Expense</th>\n",
       "      <th>Note.1</th>\n",
       "      <th>Amount</th>\n",
       "      <th>Currency</th>\n",
       "      <th>Account.1</th>\n",
       "      <th>day_name</th>\n",
       "    </tr>\n",
       "  </thead>\n",
       "  <tbody>\n",
       "    <tr>\n",
       "      <th>0</th>\n",
       "      <td>2022-03-02 10:11:00</td>\n",
       "      <td>CUB - online payment</td>\n",
       "      <td>Food</td>\n",
       "      <td>NaN</td>\n",
       "      <td>Brownie</td>\n",
       "      <td>50.0</td>\n",
       "      <td>Expense</td>\n",
       "      <td>NaN</td>\n",
       "      <td>50.0</td>\n",
       "      <td>INR</td>\n",
       "      <td>50.0</td>\n",
       "      <td>Wednesday</td>\n",
       "    </tr>\n",
       "    <tr>\n",
       "      <th>1</th>\n",
       "      <td>2022-03-02 10:11:00</td>\n",
       "      <td>CUB - online payment</td>\n",
       "      <td>Other</td>\n",
       "      <td>NaN</td>\n",
       "      <td>To lended people</td>\n",
       "      <td>300.0</td>\n",
       "      <td>Expense</td>\n",
       "      <td>NaN</td>\n",
       "      <td>300.0</td>\n",
       "      <td>INR</td>\n",
       "      <td>300.0</td>\n",
       "      <td>Wednesday</td>\n",
       "    </tr>\n",
       "    <tr>\n",
       "      <th>2</th>\n",
       "      <td>2022-03-01 19:50:00</td>\n",
       "      <td>CUB - online payment</td>\n",
       "      <td>Food</td>\n",
       "      <td>NaN</td>\n",
       "      <td>Dinner</td>\n",
       "      <td>78.0</td>\n",
       "      <td>Expense</td>\n",
       "      <td>NaN</td>\n",
       "      <td>78.0</td>\n",
       "      <td>INR</td>\n",
       "      <td>78.0</td>\n",
       "      <td>Tuesday</td>\n",
       "    </tr>\n",
       "    <tr>\n",
       "      <th>3</th>\n",
       "      <td>2022-03-01 18:56:00</td>\n",
       "      <td>CUB - online payment</td>\n",
       "      <td>Transportation</td>\n",
       "      <td>NaN</td>\n",
       "      <td>Metro</td>\n",
       "      <td>30.0</td>\n",
       "      <td>Expense</td>\n",
       "      <td>NaN</td>\n",
       "      <td>30.0</td>\n",
       "      <td>INR</td>\n",
       "      <td>30.0</td>\n",
       "      <td>Tuesday</td>\n",
       "    </tr>\n",
       "    <tr>\n",
       "      <th>4</th>\n",
       "      <td>2022-03-01 18:22:00</td>\n",
       "      <td>CUB - online payment</td>\n",
       "      <td>Food</td>\n",
       "      <td>NaN</td>\n",
       "      <td>Snacks</td>\n",
       "      <td>67.0</td>\n",
       "      <td>Expense</td>\n",
       "      <td>NaN</td>\n",
       "      <td>67.0</td>\n",
       "      <td>INR</td>\n",
       "      <td>67.0</td>\n",
       "      <td>Tuesday</td>\n",
       "    </tr>\n",
       "  </tbody>\n",
       "</table>\n",
       "</div>"
      ],
      "text/plain": [
       "                 Date               Account        Category  Subcategory  \\\n",
       "0 2022-03-02 10:11:00  CUB - online payment            Food          NaN   \n",
       "1 2022-03-02 10:11:00  CUB - online payment           Other          NaN   \n",
       "2 2022-03-01 19:50:00  CUB - online payment            Food          NaN   \n",
       "3 2022-03-01 18:56:00  CUB - online payment  Transportation          NaN   \n",
       "4 2022-03-01 18:22:00  CUB - online payment            Food          NaN   \n",
       "\n",
       "               Note    INR Income/Expense  Note.1  Amount Currency  Account.1  \\\n",
       "0           Brownie   50.0        Expense     NaN    50.0      INR       50.0   \n",
       "1  To lended people  300.0        Expense     NaN   300.0      INR      300.0   \n",
       "2            Dinner   78.0        Expense     NaN    78.0      INR       78.0   \n",
       "3             Metro   30.0        Expense     NaN    30.0      INR       30.0   \n",
       "4            Snacks   67.0        Expense     NaN    67.0      INR       67.0   \n",
       "\n",
       "    day_name  \n",
       "0  Wednesday  \n",
       "1  Wednesday  \n",
       "2    Tuesday  \n",
       "3    Tuesday  \n",
       "4    Tuesday  "
      ]
     },
     "execution_count": 42,
     "metadata": {},
     "output_type": "execute_result"
    }
   ],
   "source": [
    "df.head()"
   ]
  },
  {
   "cell_type": "code",
   "execution_count": 43,
   "metadata": {
    "colab": {
     "base_uri": "https://localhost:8080/",
     "height": 348
    },
    "id": "z2PcN0iovnDb",
    "outputId": "80cd6a9c-531e-4adf-b822-03b437cdf625"
   },
   "outputs": [
    {
     "data": {
      "text/plain": [
       "<AxesSubplot:xlabel='day_name'>"
      ]
     },
     "execution_count": 43,
     "metadata": {},
     "output_type": "execute_result"
    },
    {
     "data": {
      "image/png": "[encoded data removed]",
      "text/plain": [
       "<Figure size 640x480 with 1 Axes>"
      ]
     },
     "metadata": {},
     "output_type": "display_data"
    }
   ],
   "source": [
    "df.groupby('day_name')['INR'].mean().plot(kind='bar')"
   ]
  },
  {
   "cell_type": "code",
   "execution_count": 44,
   "metadata": {
    "id": "ArhXjWUlvtdi"
   },
   "outputs": [],
   "source": [
    "df['month_name'] = df['Date'].dt.month_name()"
   ]
  },
  {
   "cell_type": "code",
   "execution_count": 45,
   "metadata": {
    "colab": {
     "base_uri": "https://localhost:8080/",
     "height": 424
    },
    "id": "SPesh2cHv8p3",
    "outputId": "d9b5957c-bf2f-4993-fc58-419877c8b702"
   },
   "outputs": [
    {
     "data": {
      "text/html": [
       "<div>\n",
       "<style scoped>\n",
       "    .dataframe tbody tr th:only-of-type {\n",
       "        vertical-align: middle;\n",
       "    }\n",
       "\n",
       "    .dataframe tbody tr th {\n",
       "        vertical-align: top;\n",
       "    }\n",
       "\n",
       "    .dataframe thead th {\n",
       "        text-align: right;\n",
       "    }\n",
       "</style>\n",
       "<table border=\"1\" class=\"dataframe\">\n",
       "  <thead>\n",
       "    <tr style=\"text-align: right;\">\n",
       "      <th></th>\n",
       "      <th>Date</th>\n",
       "      <th>Account</th>\n",
       "      <th>Category</th>\n",
       "      <th>Subcategory</th>\n",
       "      <th>Note</th>\n",
       "      <th>INR</th>\n",
       "      <th>Income/Expense</th>\n",
       "      <th>Note.1</th>\n",
       "      <th>Amount</th>\n",
       "      <th>Currency</th>\n",
       "      <th>Account.1</th>\n",
       "      <th>day_name</th>\n",
       "      <th>month_name</th>\n",
       "    </tr>\n",
       "  </thead>\n",
       "  <tbody>\n",
       "    <tr>\n",
       "      <th>0</th>\n",
       "      <td>2022-03-02 10:11:00</td>\n",
       "      <td>CUB - online payment</td>\n",
       "      <td>Food</td>\n",
       "      <td>NaN</td>\n",
       "      <td>Brownie</td>\n",
       "      <td>50.0</td>\n",
       "      <td>Expense</td>\n",
       "      <td>NaN</td>\n",
       "      <td>50.0</td>\n",
       "      <td>INR</td>\n",
       "      <td>50.0</td>\n",
       "      <td>Wednesday</td>\n",
       "      <td>March</td>\n",
       "    </tr>\n",
       "    <tr>\n",
       "      <th>1</th>\n",
       "      <td>2022-03-02 10:11:00</td>\n",
       "      <td>CUB - online payment</td>\n",
       "      <td>Other</td>\n",
       "      <td>NaN</td>\n",
       "      <td>To lended people</td>\n",
       "      <td>300.0</td>\n",
       "      <td>Expense</td>\n",
       "      <td>NaN</td>\n",
       "      <td>300.0</td>\n",
       "      <td>INR</td>\n",
       "      <td>300.0</td>\n",
       "      <td>Wednesday</td>\n",
       "      <td>March</td>\n",
       "    </tr>\n",
       "    <tr>\n",
       "      <th>2</th>\n",
       "      <td>2022-03-01 19:50:00</td>\n",
       "      <td>CUB - online payment</td>\n",
       "      <td>Food</td>\n",
       "      <td>NaN</td>\n",
       "      <td>Dinner</td>\n",
       "      <td>78.0</td>\n",
       "      <td>Expense</td>\n",
       "      <td>NaN</td>\n",
       "      <td>78.0</td>\n",
       "      <td>INR</td>\n",
       "      <td>78.0</td>\n",
       "      <td>Tuesday</td>\n",
       "      <td>March</td>\n",
       "    </tr>\n",
       "    <tr>\n",
       "      <th>3</th>\n",
       "      <td>2022-03-01 18:56:00</td>\n",
       "      <td>CUB - online payment</td>\n",
       "      <td>Transportation</td>\n",
       "      <td>NaN</td>\n",
       "      <td>Metro</td>\n",
       "      <td>30.0</td>\n",
       "      <td>Expense</td>\n",
       "      <td>NaN</td>\n",
       "      <td>30.0</td>\n",
       "      <td>INR</td>\n",
       "      <td>30.0</td>\n",
       "      <td>Tuesday</td>\n",
       "      <td>March</td>\n",
       "    </tr>\n",
       "    <tr>\n",
       "      <th>4</th>\n",
       "      <td>2022-03-01 18:22:00</td>\n",
       "      <td>CUB - online payment</td>\n",
       "      <td>Food</td>\n",
       "      <td>NaN</td>\n",
       "      <td>Snacks</td>\n",
       "      <td>67.0</td>\n",
       "      <td>Expense</td>\n",
       "      <td>NaN</td>\n",
       "      <td>67.0</td>\n",
       "      <td>INR</td>\n",
       "      <td>67.0</td>\n",
       "      <td>Tuesday</td>\n",
       "      <td>March</td>\n",
       "    </tr>\n",
       "  </tbody>\n",
       "</table>\n",
       "</div>"
      ],
      "text/plain": [
       "                 Date               Account        Category  Subcategory  \\\n",
       "0 2022-03-02 10:11:00  CUB - online payment            Food          NaN   \n",
       "1 2022-03-02 10:11:00  CUB - online payment           Other          NaN   \n",
       "2 2022-03-01 19:50:00  CUB - online payment            Food          NaN   \n",
       "3 2022-03-01 18:56:00  CUB - online payment  Transportation          NaN   \n",
       "4 2022-03-01 18:22:00  CUB - online payment            Food          NaN   \n",
       "\n",
       "               Note    INR Income/Expense  Note.1  Amount Currency  Account.1  \\\n",
       "0           Brownie   50.0        Expense     NaN    50.0      INR       50.0   \n",
       "1  To lended people  300.0        Expense     NaN   300.0      INR      300.0   \n",
       "2            Dinner   78.0        Expense     NaN    78.0      INR       78.0   \n",
       "3             Metro   30.0        Expense     NaN    30.0      INR       30.0   \n",
       "4            Snacks   67.0        Expense     NaN    67.0      INR       67.0   \n",
       "\n",
       "    day_name month_name  \n",
       "0  Wednesday      March  \n",
       "1  Wednesday      March  \n",
       "2    Tuesday      March  \n",
       "3    Tuesday      March  \n",
       "4    Tuesday      March  "
      ]
     },
     "execution_count": 45,
     "metadata": {},
     "output_type": "execute_result"
    }
   ],
   "source": [
    "df.head()"
   ]
  },
  {
   "cell_type": "code",
   "execution_count": 46,
   "metadata": {
    "colab": {
     "base_uri": "https://localhost:8080/",
     "height": 339
    },
    "id": "sJWkzRWfv9nW",
    "outputId": "f95bd264-34d7-4882-9a21-3140b3c36732"
   },
   "outputs": [
    {
     "data": {
      "text/plain": [
       "<AxesSubplot:xlabel='month_name'>"
      ]
     },
     "execution_count": 46,
     "metadata": {},
     "output_type": "execute_result"
    },
    {
     "data": {
      "image/png": "[encoded data removed]",
      "text/plain": [
       "<Figure size 640x480 with 1 Axes>"
      ]
     },
     "metadata": {},
     "output_type": "display_data"
    }
   ],
   "source": [
    "df.groupby('month_name')['INR'].sum().plot(kind='bar')"
   ]
  },
  {
   "cell_type": "code",
   "execution_count": 47,
   "metadata": {
    "colab": {
     "base_uri": "https://localhost:8080/",
     "height": 622
    },
    "id": "pnlcKZAWwBWv",
    "outputId": "e186ec9b-f9da-49a2-dd65-5dda0ca22f31"
   },
   "outputs": [
    {
     "data": {
      "text/html": [
       "<div>\n",
       "<style scoped>\n",
       "    .dataframe tbody tr th:only-of-type {\n",
       "        vertical-align: middle;\n",
       "    }\n",
       "\n",
       "    .dataframe tbody tr th {\n",
       "        vertical-align: top;\n",
       "    }\n",
       "\n",
       "    .dataframe thead th {\n",
       "        text-align: right;\n",
       "    }\n",
       "</style>\n",
       "<table border=\"1\" class=\"dataframe\">\n",
       "  <thead>\n",
       "    <tr style=\"text-align: right;\">\n",
       "      <th></th>\n",
       "      <th>Date</th>\n",
       "      <th>Account</th>\n",
       "      <th>Category</th>\n",
       "      <th>Subcategory</th>\n",
       "      <th>Note</th>\n",
       "      <th>INR</th>\n",
       "      <th>Income/Expense</th>\n",
       "      <th>Note.1</th>\n",
       "      <th>Amount</th>\n",
       "      <th>Currency</th>\n",
       "      <th>Account.1</th>\n",
       "      <th>day_name</th>\n",
       "      <th>month_name</th>\n",
       "    </tr>\n",
       "  </thead>\n",
       "  <tbody>\n",
       "    <tr>\n",
       "      <th>7</th>\n",
       "      <td>2022-02-28 11:56:00</td>\n",
       "      <td>CUB - online payment</td>\n",
       "      <td>Food</td>\n",
       "      <td>NaN</td>\n",
       "      <td>Pizza</td>\n",
       "      <td>339.15</td>\n",
       "      <td>Expense</td>\n",
       "      <td>NaN</td>\n",
       "      <td>339.15</td>\n",
       "      <td>INR</td>\n",
       "      <td>339.15</td>\n",
       "      <td>Monday</td>\n",
       "      <td>February</td>\n",
       "    </tr>\n",
       "    <tr>\n",
       "      <th>8</th>\n",
       "      <td>2022-02-28 11:45:00</td>\n",
       "      <td>CUB - online payment</td>\n",
       "      <td>Other</td>\n",
       "      <td>NaN</td>\n",
       "      <td>From kumara</td>\n",
       "      <td>200.00</td>\n",
       "      <td>Income</td>\n",
       "      <td>NaN</td>\n",
       "      <td>200.00</td>\n",
       "      <td>INR</td>\n",
       "      <td>200.00</td>\n",
       "      <td>Monday</td>\n",
       "      <td>February</td>\n",
       "    </tr>\n",
       "    <tr>\n",
       "      <th>61</th>\n",
       "      <td>2022-01-31 08:44:00</td>\n",
       "      <td>CUB - online payment</td>\n",
       "      <td>Transportation</td>\n",
       "      <td>NaN</td>\n",
       "      <td>Vnr to apk</td>\n",
       "      <td>50.00</td>\n",
       "      <td>Expense</td>\n",
       "      <td>NaN</td>\n",
       "      <td>50.00</td>\n",
       "      <td>INR</td>\n",
       "      <td>50.00</td>\n",
       "      <td>Monday</td>\n",
       "      <td>January</td>\n",
       "    </tr>\n",
       "    <tr>\n",
       "      <th>62</th>\n",
       "      <td>2022-01-31 08:27:00</td>\n",
       "      <td>CUB - online payment</td>\n",
       "      <td>Other</td>\n",
       "      <td>NaN</td>\n",
       "      <td>To vicky</td>\n",
       "      <td>200.00</td>\n",
       "      <td>Expense</td>\n",
       "      <td>NaN</td>\n",
       "      <td>200.00</td>\n",
       "      <td>INR</td>\n",
       "      <td>200.00</td>\n",
       "      <td>Monday</td>\n",
       "      <td>January</td>\n",
       "    </tr>\n",
       "    <tr>\n",
       "      <th>63</th>\n",
       "      <td>2022-01-31 08:26:00</td>\n",
       "      <td>CUB - online payment</td>\n",
       "      <td>Transportation</td>\n",
       "      <td>NaN</td>\n",
       "      <td>To ksr station</td>\n",
       "      <td>153.00</td>\n",
       "      <td>Expense</td>\n",
       "      <td>NaN</td>\n",
       "      <td>153.00</td>\n",
       "      <td>INR</td>\n",
       "      <td>153.00</td>\n",
       "      <td>Monday</td>\n",
       "      <td>January</td>\n",
       "    </tr>\n",
       "    <tr>\n",
       "      <th>242</th>\n",
       "      <td>2021-11-30 14:24:00</td>\n",
       "      <td>CUB - online payment</td>\n",
       "      <td>Gift</td>\n",
       "      <td>NaN</td>\n",
       "      <td>Bharath birthday</td>\n",
       "      <td>115.00</td>\n",
       "      <td>Expense</td>\n",
       "      <td>NaN</td>\n",
       "      <td>115.00</td>\n",
       "      <td>INR</td>\n",
       "      <td>115.00</td>\n",
       "      <td>Tuesday</td>\n",
       "      <td>November</td>\n",
       "    </tr>\n",
       "    <tr>\n",
       "      <th>243</th>\n",
       "      <td>2021-11-30 14:17:00</td>\n",
       "      <td>CUB - online payment</td>\n",
       "      <td>Food</td>\n",
       "      <td>NaN</td>\n",
       "      <td>Lunch with company</td>\n",
       "      <td>128.00</td>\n",
       "      <td>Expense</td>\n",
       "      <td>NaN</td>\n",
       "      <td>128.00</td>\n",
       "      <td>INR</td>\n",
       "      <td>128.00</td>\n",
       "      <td>Tuesday</td>\n",
       "      <td>November</td>\n",
       "    </tr>\n",
       "    <tr>\n",
       "      <th>244</th>\n",
       "      <td>2021-11-30 10:11:00</td>\n",
       "      <td>CUB - online payment</td>\n",
       "      <td>Food</td>\n",
       "      <td>NaN</td>\n",
       "      <td>Breakfast</td>\n",
       "      <td>70.00</td>\n",
       "      <td>Expense</td>\n",
       "      <td>NaN</td>\n",
       "      <td>70.00</td>\n",
       "      <td>INR</td>\n",
       "      <td>70.00</td>\n",
       "      <td>Tuesday</td>\n",
       "      <td>November</td>\n",
       "    </tr>\n",
       "  </tbody>\n",
       "</table>\n",
       "</div>"
      ],
      "text/plain": [
       "                   Date               Account        Category  Subcategory  \\\n",
       "7   2022-02-28 11:56:00  CUB - online payment            Food          NaN   \n",
       "8   2022-02-28 11:45:00  CUB - online payment           Other          NaN   \n",
       "61  2022-01-31 08:44:00  CUB - online payment  Transportation          NaN   \n",
       "62  2022-01-31 08:27:00  CUB - online payment           Other          NaN   \n",
       "63  2022-01-31 08:26:00  CUB - online payment  Transportation          NaN   \n",
       "242 2021-11-30 14:24:00  CUB - online payment            Gift          NaN   \n",
       "243 2021-11-30 14:17:00  CUB - online payment            Food          NaN   \n",
       "244 2021-11-30 10:11:00  CUB - online payment            Food          NaN   \n",
       "\n",
       "                   Note     INR Income/Expense  Note.1  Amount Currency  \\\n",
       "7                 Pizza  339.15        Expense     NaN  339.15      INR   \n",
       "8           From kumara  200.00         Income     NaN  200.00      INR   \n",
       "61           Vnr to apk   50.00        Expense     NaN   50.00      INR   \n",
       "62             To vicky  200.00        Expense     NaN  200.00      INR   \n",
       "63       To ksr station  153.00        Expense     NaN  153.00      INR   \n",
       "242    Bharath birthday  115.00        Expense     NaN  115.00      INR   \n",
       "243  Lunch with company  128.00        Expense     NaN  128.00      INR   \n",
       "244           Breakfast   70.00        Expense     NaN   70.00      INR   \n",
       "\n",
       "     Account.1 day_name month_name  \n",
       "7       339.15   Monday   February  \n",
       "8       200.00   Monday   February  \n",
       "61       50.00   Monday    January  \n",
       "62      200.00   Monday    January  \n",
       "63      153.00   Monday    January  \n",
       "242     115.00  Tuesday   November  \n",
       "243     128.00  Tuesday   November  \n",
       "244      70.00  Tuesday   November  "
      ]
     },
     "execution_count": 47,
     "metadata": {},
     "output_type": "execute_result"
    }
   ],
   "source": [
    "df[df['Date'].dt.is_month_end]"
   ]
  },
  {
   "cell_type": "code",
   "execution_count": null,
   "metadata": {
    "id": "QJfMv1ipwT05"
   },
   "outputs": [],
   "source": []
  }
 ],
 "metadata": {
  "colab": {
   "provenance": []
  },
  "kernelspec": {
   "display_name": "Python 3 (ipykernel)",
   "language": "python",
   "name": "python3"
  },
  "language_info": {
   "codemirror_mode": {
    "name": "ipython",
    "version": 3
   },
   "file_extension": ".py",
   "mimetype": "text/x-python",
   "name": "python",
   "nbconvert_exporter": "python",
   "pygments_lexer": "ipython3",
   "version": "3.9.13"
  }
 },
 "nbformat": 4,
 "nbformat_minor": 1
}
