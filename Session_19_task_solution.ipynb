{
 "cells": [
  {
   "cell_type": "markdown",
   "metadata": {
    "id": "mGBzdavGOUdP"
   },
   "source": [
    "## **Questions based on Titanic Dataset:**\n",
    "\n",
    "To read the dataset as csv, use the below code:\n",
    "\n",
    "```python\n",
    "import pandas as pd\n",
    "\n",
    "url = \"https://docs.google.com/spreadsheets/d/e/2PACX-1vQjh5HzZ1N0SU7ME9ZQRzeVTaXaGsV97rU8R7eAcg53k27GTstJp9cRUOfr55go1GRRvTz1NwvyOnuh/pub?gid=1562145139&single=true&output=csv\"\n",
    "titanic_df = pd.read_csv(url)\n",
    "```"
   ]
  },
  {
   "cell_type": "code",
   "execution_count": null,
   "metadata": {
    "id": "cRuoAMR6RDrb"
   },
   "outputs": [],
   "source": [
    "import pandas as pd\n",
    "import numpy as np\n",
    "\n",
    "url = \"https://docs.google.com/spreadsheets/d/e/2PACX-1vQjh5HzZ1N0SU7ME9ZQRzeVTaXaGsV97rU8R7eAcg53k27GTstJp9cRUOfr55go1GRRvTz1NwvyOnuh/pub?gid=1562145139&single=true&output=csv\"\n",
    "titanic_df = pd.read_csv(url)"
   ]
  },
  {
   "cell_type": "markdown",
   "metadata": {
    "id": "HsmRWKRoOa0-"
   },
   "source": [
    "### `Q-1:` Using `groupby` make groups using the `\"Pclass\"` column and find out the average age and total number of missing values in the `\"Age\"` column for every group."
   ]
  },
  {
   "cell_type": "code",
   "execution_count": null,
   "metadata": {
    "colab": {
     "base_uri": "https://localhost:8080/"
    },
    "id": "OdPLAvd4OVS6",
    "outputId": "2e659d1d-63ea-4219-e639-b34709c82dd7"
   },
   "outputs": [
    {
     "name": "stdout",
     "output_type": "stream",
     "text": [
      "Pclass 1 : Avg Age 38.233440860215055 and total missing value 30\n",
      "Pclass 2 : Avg Age 29.87763005780347 and total missing value 11\n",
      "Pclass 3 : Avg Age 25.14061971830986 and total missing value 136\n"
     ]
    }
   ],
   "source": [
    "# code here\n",
    "pclass_groups = titanic_df.groupby(\"Pclass\")\n",
    "for group in list(pclass_groups.groups.keys()):\n",
    "    print(f\"Pclass {group} : Avg Age {pclass_groups.get_group(group)['Age'].mean()} and total missing value {pclass_groups.get_group(group)['Age'].isna().sum()}\")"
   ]
  },
  {
   "cell_type": "markdown",
   "metadata": {
    "id": "CGBHGvCMOctq"
   },
   "source": [
    "### `Q-2:` Using `groupby` make groups using the `\"Pclass\"` column and fill every group's `\"Embarked\"` column's missing values with the mode value of that group. After that, print every group's `\"Embarked\"` column's value counts in ascending order."
   ]
  },
  {
   "cell_type": "code",
   "execution_count": null,
   "metadata": {
    "colab": {
     "base_uri": "https://localhost:8080/"
    },
    "id": "eOMciiM_OfPU",
    "outputId": "1ba815fa-69a6-4e59-a11f-ccf4c646f23c"
   },
   "outputs": [
    {
     "name": "stdout",
     "output_type": "stream",
     "text": [
      "Q      2\n",
      "C     85\n",
      "S    127\n",
      "Name: Embarked, dtype: int64\n",
      "Q      3\n",
      "C     17\n",
      "S    164\n",
      "Name: Embarked, dtype: int64\n",
      "C     66\n",
      "Q     72\n",
      "S    353\n",
      "Name: Embarked, dtype: int64\n"
     ]
    }
   ],
   "source": [
    "# code here - Done in session\n",
    "for group in list(pclass_groups.groups.keys()):\n",
    "    mode = pclass_groups.get_group(group)[\"Embarked\"].mode()\n",
    "    pclass_groups.get_group(group)[\"Embarked\"].fillna(mode)\n",
    "    print(pclass_groups.get_group(group)[\"Embarked\"].value_counts(ascending = True))"
   ]
  },
  {
   "cell_type": "markdown",
   "metadata": {
    "id": "Ed5G47W53hgU"
   },
   "source": [
    "* Nan value is not updated in the dataframe in the above approach."
   ]
  },
  {
   "cell_type": "code",
   "execution_count": null,
   "metadata": {
    "id": "qixCqhg-3hCm"
   },
   "outputs": [],
   "source": []
  },
  {
   "cell_type": "code",
   "execution_count": null,
   "metadata": {
    "colab": {
     "base_uri": "https://localhost:8080/"
    },
    "id": "HRRgC6afxLOQ",
    "outputId": "17001a7b-b806-4917-81d4-d6b60c0f2d60"
   },
   "outputs": [
    {
     "data": {
      "text/plain": [
       "Pclass  Embarked\n",
       "1       C            85\n",
       "        Q             2\n",
       "        S           129\n",
       "2       C            17\n",
       "        Q             3\n",
       "        S           164\n",
       "3       C            66\n",
       "        Q            72\n",
       "        S           353\n",
       "dtype: int64"
      ]
     },
     "execution_count": 13,
     "metadata": {},
     "output_type": "execute_result"
    }
   ],
   "source": [
    "# Updated Code : Approach 1\n",
    "titanic_df1 = titanic_df.copy(True)\n",
    "\n",
    "# Step 1: Group by 'Pclass' and fill missing values in 'Embarked' with the mode value of that group\n",
    "titanic_df1['Embarked'] = titanic_df1.groupby('Pclass')['Embarked'].transform(lambda x: x.fillna(x.mode()[0]))\n",
    "\n",
    "# Step 2: Print the value counts of 'Embarked' for each group in ascending order\n",
    "grouped = titanic_df1.groupby('Pclass')[['Embarked']]\n",
    "grouped.value_counts().sort_index(ascending=True)"
   ]
  },
  {
   "cell_type": "code",
   "execution_count": null,
   "metadata": {
    "colab": {
     "base_uri": "https://localhost:8080/"
    },
    "id": "i0LB71VlxaSO",
    "outputId": "7580b318-89b6-4ce7-aa37-da881826b571"
   },
   "outputs": [
    {
     "name": "stdout",
     "output_type": "stream",
     "text": [
      "S    129\n",
      "C     85\n",
      "Q      2\n",
      "Name: Embarked, dtype: int64\n",
      "S    164\n",
      "C     17\n",
      "Q      3\n",
      "Name: Embarked, dtype: int64\n",
      "S    353\n",
      "Q     72\n",
      "C     66\n",
      "Name: Embarked, dtype: int64\n"
     ]
    }
   ],
   "source": [
    "# Updated Code : Approach 2\n",
    "\n",
    "titanic_df2 = titanic_df.copy(True)\n",
    "pclass_groups=titanic_df2.groupby('Pclass')\n",
    "for group in list(pclass_groups.groups.keys()):\n",
    "    mode_val=pclass_groups.get_group(group)['Embarked'].mode()\n",
    "    titanic_df2.loc[pclass_groups.get_group(group).index, 'Embarked'] = pclass_groups.get_group(group)['Embarked'].fillna(mode_val[0])\n",
    "    print(pclass_groups.get_group(group)['Embarked'].value_counts())"
   ]
  },
  {
   "cell_type": "code",
   "execution_count": null,
   "metadata": {
    "id": "53AKAkaYxaVG"
   },
   "outputs": [],
   "source": []
  },
  {
   "cell_type": "markdown",
   "metadata": {
    "id": "3B4ieUtTOg2E"
   },
   "source": [
    "### `Q-3:` Make groups based on `\"Embarked\"` column. And for each of this embarked group, make another group based on `\"Pclass\"` and find out the average fare (round off up to 2 decimal places) for each \"Pclass\" for each group of \"Embarked\".\n",
    "\n",
    "**Sample Output:**\n",
    "\n",
    "```bash\n",
    "{'C': {1: 105, 2: 25, 3: 11},\n",
    " 'Q': {1: 90, 2: 12, 3: 11},\n",
    " 'S': {1: 70, 2: 20, 3: 15}}\n",
    "```"
   ]
  },
  {
   "cell_type": "code",
   "execution_count": null,
   "metadata": {
    "id": "rQvGcpCLOjEk",
    "outputId": "e481623b-dd53-4650-eac7-de26f8cad652"
   },
   "outputs": [
    {
     "data": {
      "text/plain": [
       "{'C': {1: 104.72, 2: 25.36, 3: 11.21},\n",
       " 'Q': {1: 90.0, 2: 12.35, 3: 11.18},\n",
       " 'S': {1: 70.36, 2: 20.33, 3: 14.64}}"
      ]
     },
     "execution_count": 10,
     "metadata": {},
     "output_type": "execute_result"
    }
   ],
   "source": [
    "# code here\n",
    "my_dict = {}\n",
    "\n",
    "embarked_groups = titanic_df.groupby(\"Embarked\")\n",
    "for embarked_group in list(embarked_groups.groups.keys()):\n",
    "    pclass_groups = embarked_groups.get_group(embarked_group).groupby(\"Pclass\")\n",
    "    my_dict[embarked_group] = {}\n",
    "    for pclass_group in list(pclass_groups.groups.keys()):\n",
    "        my_dict[embarked_group][pclass_group] = round(pclass_groups.get_group(pclass_group)[\"Fare\"].mean(), 2)\n",
    "my_dict"
   ]
  },
  {
   "cell_type": "markdown",
   "metadata": {
    "id": "iS6vHZUIOnJy"
   },
   "source": [
    "## **Questions Based on Fifa Worldcup - 2022 Dataset:**\n",
    "\n",
    "You can read the dataset by using the below sample code\n",
    "\n",
    "```python\n",
    "import pandas as pd\n",
    "\n",
    "fifa_df = pd.read_csv(\"https://docs.google.com/spreadsheets/d/e/2PACX-1vT3D_x_4DS6d51LKJ7ze1sxT5WpV5uiSVOFYHLwBiGru6vFyVv5h5-83AwFjxWYiWfCDjDAaarHAV-k/pub?gid=0&single=true&output=csv\")\n",
    "```"
   ]
  },
  {
   "cell_type": "code",
   "execution_count": 1,
   "metadata": {
    "id": "DvWkHJDjRDri"
   },
   "outputs": [],
   "source": [
    "import pandas as pd\n",
    "\n",
    "fifa_df = pd.read_csv(\"https://docs.google.com/spreadsheets/d/e/2PACX-1vT3D_x_4DS6d51LKJ7ze1sxT5WpV5uiSVOFYHLwBiGru6vFyVv5h5-83AwFjxWYiWfCDjDAaarHAV-k/pub?gid=0&single=true&output=csv\")"
   ]
  },
  {
   "cell_type": "markdown",
   "metadata": {
    "id": "3GPZOvh5Oqhp"
   },
   "source": [
    "### `Q-4:` Perform `groupby` based on the `\"Team\"` column and then perform Z Normalization on top of the below columns of each group:\n",
    "1. Passes\n",
    "2. Passes Completed\n",
    "3. Attempted Line Breaks\n",
    "4. Completed Line Breaks\n",
    "\n",
    "You have to make a python function named `z_normalization` which takes two arguments:\n",
    "\n",
    "1. *group:* Every group that you have created\n",
    "2. *cols_to_perform:* This parameter takes a list of columns on which you have to perform the Z-Normalization.\n",
    "\n",
    "For this problem, you have to use th `apply()` method.\n",
    "\n",
    "$\\Large Z \\ - \\ Normalization = \\frac{X_i - \\mu}{std} $\n",
    "\n",
    "After that find out the below values for each group:\n",
    "- minimum \"Passess\"\n",
    "- maximum \"Passess\"\n",
    "- minimum \"Yellow Cards\"\n",
    "- maximum \"Yellow cards\"\n",
    "- average \"Yellow Cards\"\n",
    "- maximum \"Attempted Line Breaks\"\n",
    "- minimum \"Attempted Line Breaks\"\n",
    "- standardard deviation of \"Attempted Line Breaks\"\n",
    "- average Possession"
   ]
  },
  {
   "cell_type": "code",
   "execution_count": 4,
   "metadata": {
    "id": "OuGLcl3EOnxY",
    "outputId": "2c6cdb05-caf0-45fc-b827-84eac334ce1a"
   },
   "outputs": [],
   "source": [
    "# code here\n",
    "def z_normalization(group, cols_to_perform):\n",
    "    for col in cols_to_perform:\n",
    "        std = group[col].std()\n",
    "        mean = group[col].mean()\n",
    "        group[f\"{col}_z_norm\"] = (group[col] - mean)/std\n",
    "    return group\n",
    "\n",
    "\n",
    "cols_to_perform = [\"Passes\", \"Passes Completed\", \"Attempted Line Breaks\", \"Completed Line Breaks\"]\n",
    "groups = fifa_df.groupby(\"Team\")\n",
    "groups = groups.apply(z_normalization, cols_to_perform = cols_to_perform)\n",
    "# groups = groups.apply(z_normalization, cols_to_perform = cols_to_perform).groupby(\"Team\")\n",
    "# groups.agg(\n",
    "# {\n",
    "#     \"Passes\": [\"min\", \"max\"],\n",
    "#     \"Yellow Cards\": [\"min\", \"max\", \"mean\"],\n",
    "#     \"Attempted Line Breaks\": [\"max\", \"min\", \"std\"],\n",
    "#     \"Possession (%)\": \"mean\"\n",
    "# })"
   ]
  },
  {
   "cell_type": "code",
   "execution_count": 5,
   "metadata": {},
   "outputs": [
    {
     "data": {
      "text/html": [
       "<div>\n",
       "<style scoped>\n",
       "    .dataframe tbody tr th:only-of-type {\n",
       "        vertical-align: middle;\n",
       "    }\n",
       "\n",
       "    .dataframe tbody tr th {\n",
       "        vertical-align: top;\n",
       "    }\n",
       "\n",
       "    .dataframe thead th {\n",
       "        text-align: right;\n",
       "    }\n",
       "</style>\n",
       "<table border=\"1\" class=\"dataframe\">\n",
       "  <thead>\n",
       "    <tr style=\"text-align: right;\">\n",
       "      <th></th>\n",
       "      <th>Sl. No</th>\n",
       "      <th>Match No.</th>\n",
       "      <th>Goal</th>\n",
       "      <th>Possession (%)</th>\n",
       "      <th>Inside Penalty Area</th>\n",
       "      <th>Outside Penalty Area</th>\n",
       "      <th>Assists</th>\n",
       "      <th>Total Attempts</th>\n",
       "      <th>On Target</th>\n",
       "      <th>Off Target</th>\n",
       "      <th>...</th>\n",
       "      <th>Crosses</th>\n",
       "      <th>Crosses Completed</th>\n",
       "      <th>Corners</th>\n",
       "      <th>Free Kicks</th>\n",
       "      <th>Penalties Scored</th>\n",
       "      <th>Pts</th>\n",
       "      <th>Passes_z_norm</th>\n",
       "      <th>Passes Completed_z_norm</th>\n",
       "      <th>Attempted Line Breaks_z_norm</th>\n",
       "      <th>Completed Line Breaks_z_norm</th>\n",
       "    </tr>\n",
       "  </thead>\n",
       "  <tbody>\n",
       "    <tr>\n",
       "      <th>count</th>\n",
       "      <td>128.000000</td>\n",
       "      <td>128.000000</td>\n",
       "      <td>128.000000</td>\n",
       "      <td>128.000000</td>\n",
       "      <td>128.000000</td>\n",
       "      <td>128.000000</td>\n",
       "      <td>128.000000</td>\n",
       "      <td>128.000000</td>\n",
       "      <td>128.000000</td>\n",
       "      <td>128.000000</td>\n",
       "      <td>...</td>\n",
       "      <td>128.000000</td>\n",
       "      <td>128.000000</td>\n",
       "      <td>128.000000</td>\n",
       "      <td>128.000000</td>\n",
       "      <td>128.000000</td>\n",
       "      <td>128.000000</td>\n",
       "      <td>1.280000e+02</td>\n",
       "      <td>1.280000e+02</td>\n",
       "      <td>1.280000e+02</td>\n",
       "      <td>1.280000e+02</td>\n",
       "    </tr>\n",
       "    <tr>\n",
       "      <th>mean</th>\n",
       "      <td>64.500000</td>\n",
       "      <td>32.500000</td>\n",
       "      <td>1.343750</td>\n",
       "      <td>43.476562</td>\n",
       "      <td>1.203125</td>\n",
       "      <td>0.117188</td>\n",
       "      <td>0.914062</td>\n",
       "      <td>11.257812</td>\n",
       "      <td>4.007812</td>\n",
       "      <td>4.835938</td>\n",
       "      <td>...</td>\n",
       "      <td>19.523438</td>\n",
       "      <td>4.898438</td>\n",
       "      <td>4.468750</td>\n",
       "      <td>14.250000</td>\n",
       "      <td>0.335938</td>\n",
       "      <td>1.429688</td>\n",
       "      <td>-5.968533e-17</td>\n",
       "      <td>-1.127570e-17</td>\n",
       "      <td>6.938894e-18</td>\n",
       "      <td>2.883978e-17</td>\n",
       "    </tr>\n",
       "    <tr>\n",
       "      <th>std</th>\n",
       "      <td>37.094474</td>\n",
       "      <td>18.545539</td>\n",
       "      <td>1.342448</td>\n",
       "      <td>11.442403</td>\n",
       "      <td>1.324270</td>\n",
       "      <td>0.322907</td>\n",
       "      <td>1.150333</td>\n",
       "      <td>5.406683</td>\n",
       "      <td>2.588576</td>\n",
       "      <td>2.610630</td>\n",
       "      <td>...</td>\n",
       "      <td>8.596799</td>\n",
       "      <td>3.520111</td>\n",
       "      <td>2.774852</td>\n",
       "      <td>4.712189</td>\n",
       "      <td>0.941412</td>\n",
       "      <td>1.389973</td>\n",
       "      <td>8.694283e-01</td>\n",
       "      <td>8.694283e-01</td>\n",
       "      <td>8.694283e-01</td>\n",
       "      <td>8.694283e-01</td>\n",
       "    </tr>\n",
       "    <tr>\n",
       "      <th>min</th>\n",
       "      <td>1.000000</td>\n",
       "      <td>1.000000</td>\n",
       "      <td>0.000000</td>\n",
       "      <td>14.000000</td>\n",
       "      <td>0.000000</td>\n",
       "      <td>0.000000</td>\n",
       "      <td>0.000000</td>\n",
       "      <td>0.000000</td>\n",
       "      <td>0.000000</td>\n",
       "      <td>0.000000</td>\n",
       "      <td>...</td>\n",
       "      <td>4.000000</td>\n",
       "      <td>0.000000</td>\n",
       "      <td>0.000000</td>\n",
       "      <td>5.000000</td>\n",
       "      <td>0.000000</td>\n",
       "      <td>0.000000</td>\n",
       "      <td>-1.646177e+00</td>\n",
       "      <td>-1.662585e+00</td>\n",
       "      <td>-1.785063e+00</td>\n",
       "      <td>-1.978319e+00</td>\n",
       "    </tr>\n",
       "    <tr>\n",
       "      <th>25%</th>\n",
       "      <td>32.750000</td>\n",
       "      <td>16.750000</td>\n",
       "      <td>0.000000</td>\n",
       "      <td>35.000000</td>\n",
       "      <td>0.000000</td>\n",
       "      <td>0.000000</td>\n",
       "      <td>0.000000</td>\n",
       "      <td>7.750000</td>\n",
       "      <td>2.000000</td>\n",
       "      <td>3.000000</td>\n",
       "      <td>...</td>\n",
       "      <td>13.000000</td>\n",
       "      <td>3.000000</td>\n",
       "      <td>2.000000</td>\n",
       "      <td>11.000000</td>\n",
       "      <td>0.000000</td>\n",
       "      <td>0.000000</td>\n",
       "      <td>-7.370401e-01</td>\n",
       "      <td>-7.473389e-01</td>\n",
       "      <td>-8.015475e-01</td>\n",
       "      <td>-7.162400e-01</td>\n",
       "    </tr>\n",
       "    <tr>\n",
       "      <th>50%</th>\n",
       "      <td>64.500000</td>\n",
       "      <td>32.500000</td>\n",
       "      <td>1.000000</td>\n",
       "      <td>45.000000</td>\n",
       "      <td>1.000000</td>\n",
       "      <td>0.000000</td>\n",
       "      <td>1.000000</td>\n",
       "      <td>10.000000</td>\n",
       "      <td>4.000000</td>\n",
       "      <td>4.000000</td>\n",
       "      <td>...</td>\n",
       "      <td>19.000000</td>\n",
       "      <td>4.000000</td>\n",
       "      <td>4.000000</td>\n",
       "      <td>14.000000</td>\n",
       "      <td>0.000000</td>\n",
       "      <td>1.000000</td>\n",
       "      <td>-3.378823e-02</td>\n",
       "      <td>-7.631739e-02</td>\n",
       "      <td>3.586449e-02</td>\n",
       "      <td>5.235714e-02</td>\n",
       "    </tr>\n",
       "    <tr>\n",
       "      <th>75%</th>\n",
       "      <td>96.250000</td>\n",
       "      <td>48.250000</td>\n",
       "      <td>2.000000</td>\n",
       "      <td>51.000000</td>\n",
       "      <td>2.000000</td>\n",
       "      <td>0.000000</td>\n",
       "      <td>1.000000</td>\n",
       "      <td>14.000000</td>\n",
       "      <td>6.000000</td>\n",
       "      <td>6.000000</td>\n",
       "      <td>...</td>\n",
       "      <td>24.000000</td>\n",
       "      <td>6.000000</td>\n",
       "      <td>6.000000</td>\n",
       "      <td>17.000000</td>\n",
       "      <td>0.000000</td>\n",
       "      <td>3.000000</td>\n",
       "      <td>7.939328e-01</td>\n",
       "      <td>7.714394e-01</td>\n",
       "      <td>7.727364e-01</td>\n",
       "      <td>6.708587e-01</td>\n",
       "    </tr>\n",
       "    <tr>\n",
       "      <th>max</th>\n",
       "      <td>128.000000</td>\n",
       "      <td>64.000000</td>\n",
       "      <td>7.000000</td>\n",
       "      <td>78.000000</td>\n",
       "      <td>7.000000</td>\n",
       "      <td>1.000000</td>\n",
       "      <td>6.000000</td>\n",
       "      <td>32.000000</td>\n",
       "      <td>13.000000</td>\n",
       "      <td>17.000000</td>\n",
       "      <td>...</td>\n",
       "      <td>53.000000</td>\n",
       "      <td>25.000000</td>\n",
       "      <td>14.000000</td>\n",
       "      <td>30.000000</td>\n",
       "      <td>5.000000</td>\n",
       "      <td>3.000000</td>\n",
       "      <td>1.705844e+00</td>\n",
       "      <td>1.813757e+00</td>\n",
       "      <td>1.757406e+00</td>\n",
       "      <td>1.835967e+00</td>\n",
       "    </tr>\n",
       "  </tbody>\n",
       "</table>\n",
       "<p>8 rows × 39 columns</p>\n",
       "</div>"
      ],
      "text/plain": [
       "           Sl. No   Match No.        Goal  Possession (%)  \\\n",
       "count  128.000000  128.000000  128.000000      128.000000   \n",
       "mean    64.500000   32.500000    1.343750       43.476562   \n",
       "std     37.094474   18.545539    1.342448       11.442403   \n",
       "min      1.000000    1.000000    0.000000       14.000000   \n",
       "25%     32.750000   16.750000    0.000000       35.000000   \n",
       "50%     64.500000   32.500000    1.000000       45.000000   \n",
       "75%     96.250000   48.250000    2.000000       51.000000   \n",
       "max    128.000000   64.000000    7.000000       78.000000   \n",
       "\n",
       "       Inside Penalty Area  Outside Penalty Area     Assists  Total Attempts  \\\n",
       "count           128.000000            128.000000  128.000000      128.000000   \n",
       "mean              1.203125              0.117188    0.914062       11.257812   \n",
       "std               1.324270              0.322907    1.150333        5.406683   \n",
       "min               0.000000              0.000000    0.000000        0.000000   \n",
       "25%               0.000000              0.000000    0.000000        7.750000   \n",
       "50%               1.000000              0.000000    1.000000       10.000000   \n",
       "75%               2.000000              0.000000    1.000000       14.000000   \n",
       "max               7.000000              1.000000    6.000000       32.000000   \n",
       "\n",
       "        On Target  Off Target  ...     Crosses  Crosses Completed     Corners  \\\n",
       "count  128.000000  128.000000  ...  128.000000         128.000000  128.000000   \n",
       "mean     4.007812    4.835938  ...   19.523438           4.898438    4.468750   \n",
       "std      2.588576    2.610630  ...    8.596799           3.520111    2.774852   \n",
       "min      0.000000    0.000000  ...    4.000000           0.000000    0.000000   \n",
       "25%      2.000000    3.000000  ...   13.000000           3.000000    2.000000   \n",
       "50%      4.000000    4.000000  ...   19.000000           4.000000    4.000000   \n",
       "75%      6.000000    6.000000  ...   24.000000           6.000000    6.000000   \n",
       "max     13.000000   17.000000  ...   53.000000          25.000000   14.000000   \n",
       "\n",
       "       Free Kicks  Penalties Scored         Pts  Passes_z_norm  \\\n",
       "count  128.000000        128.000000  128.000000   1.280000e+02   \n",
       "mean    14.250000          0.335938    1.429688  -5.968533e-17   \n",
       "std      4.712189          0.941412    1.389973   8.694283e-01   \n",
       "min      5.000000          0.000000    0.000000  -1.646177e+00   \n",
       "25%     11.000000          0.000000    0.000000  -7.370401e-01   \n",
       "50%     14.000000          0.000000    1.000000  -3.378823e-02   \n",
       "75%     17.000000          0.000000    3.000000   7.939328e-01   \n",
       "max     30.000000          5.000000    3.000000   1.705844e+00   \n",
       "\n",
       "       Passes Completed_z_norm  Attempted Line Breaks_z_norm  \\\n",
       "count             1.280000e+02                  1.280000e+02   \n",
       "mean             -1.127570e-17                  6.938894e-18   \n",
       "std               8.694283e-01                  8.694283e-01   \n",
       "min              -1.662585e+00                 -1.785063e+00   \n",
       "25%              -7.473389e-01                 -8.015475e-01   \n",
       "50%              -7.631739e-02                  3.586449e-02   \n",
       "75%               7.714394e-01                  7.727364e-01   \n",
       "max               1.813757e+00                  1.757406e+00   \n",
       "\n",
       "       Completed Line Breaks_z_norm  \n",
       "count                  1.280000e+02  \n",
       "mean                   2.883978e-17  \n",
       "std                    8.694283e-01  \n",
       "min                   -1.978319e+00  \n",
       "25%                   -7.162400e-01  \n",
       "50%                    5.235714e-02  \n",
       "75%                    6.708587e-01  \n",
       "max                    1.835967e+00  \n",
       "\n",
       "[8 rows x 39 columns]"
      ]
     },
     "execution_count": 5,
     "metadata": {},
     "output_type": "execute_result"
    }
   ],
   "source": [
    "groups.describe()"
   ]
  },
  {
   "cell_type": "markdown",
   "metadata": {
    "id": "RPjqA-OtOxDD"
   },
   "source": [
    "## **Questions on IPL wala dataset**\n",
    "\n",
    "ball by ball dataset - https://drive.google.com/file/d/1-kvv_9KCSAFWcrhS9WgTxSrURkRh6GNt/view?usp=share_link\n",
    "\n",
    "\n",
    "\n"
   ]
  },
  {
   "cell_type": "code",
   "execution_count": null,
   "metadata": {
    "id": "TL1gB8R_RDrm"
   },
   "outputs": [],
   "source": [
    "balls = pd.read_csv(\"ipl_deliveries - ipl_deliveries.csv\")"
   ]
  },
  {
   "cell_type": "markdown",
   "metadata": {
    "id": "IeQpV8A2O0IR"
   },
   "source": [
    "### `Q-5:` Find batsman in below category-\n",
    "* Highest score while chasing\n",
    "* Best Strike rate while chasing and have faced 100+ balls\n",
    "\n",
    "\n",
    "> Chasing mean team batting in second inning"
   ]
  },
  {
   "cell_type": "code",
   "execution_count": null,
   "metadata": {
    "id": "nwa-adpMOxl4",
    "outputId": "442a11ce-9cfb-4886-9e3f-cfc242806303"
   },
   "outputs": [
    {
     "data": {
      "text/plain": [
       "ID       batter       \n",
       "501206   PC Valthaty      120\n",
       "501243   V Sehwag         119\n",
       "1254061  SV Samson        119\n",
       "1136620  SR Watson        117\n",
       "336018   ST Jayasuriya    114\n",
       "Name: batsman_run, dtype: int64"
      ]
     },
     "execution_count": 15,
     "metadata": {},
     "output_type": "execute_result"
    }
   ],
   "source": [
    "# code here\n",
    "#1\n",
    "df = balls[balls.innings == 2]\n",
    "df.groupby([\"ID\", \"batter\"]).sum().sort_values(by = \"batsman_run\", ascending = False)[\"batsman_run\"].head()"
   ]
  },
  {
   "cell_type": "code",
   "execution_count": null,
   "metadata": {
    "id": "NeV8NBVTRDrn",
    "outputId": "821e0d74-26ad-40c7-e853-698474be04c1"
   },
   "outputs": [
    {
     "data": {
      "text/html": [
       "<div>\n",
       "<style scoped>\n",
       "    .dataframe tbody tr th:only-of-type {\n",
       "        vertical-align: middle;\n",
       "    }\n",
       "\n",
       "    .dataframe tbody tr th {\n",
       "        vertical-align: top;\n",
       "    }\n",
       "\n",
       "    .dataframe thead th {\n",
       "        text-align: right;\n",
       "    }\n",
       "</style>\n",
       "<table border=\"1\" class=\"dataframe\">\n",
       "  <thead>\n",
       "    <tr style=\"text-align: right;\">\n",
       "      <th></th>\n",
       "      <th>batter</th>\n",
       "      <th>batsman_run</th>\n",
       "      <th>ballnumber</th>\n",
       "      <th>strike_rate</th>\n",
       "    </tr>\n",
       "  </thead>\n",
       "  <tbody>\n",
       "    <tr>\n",
       "      <th>0</th>\n",
       "      <td>PJ Cummins</td>\n",
       "      <td>222</td>\n",
       "      <td>114</td>\n",
       "      <td>194.736842</td>\n",
       "    </tr>\n",
       "    <tr>\n",
       "      <th>1</th>\n",
       "      <td>AD Russell</td>\n",
       "      <td>986</td>\n",
       "      <td>570</td>\n",
       "      <td>172.982456</td>\n",
       "    </tr>\n",
       "    <tr>\n",
       "      <th>2</th>\n",
       "      <td>LS Livingstone</td>\n",
       "      <td>182</td>\n",
       "      <td>107</td>\n",
       "      <td>170.093458</td>\n",
       "    </tr>\n",
       "    <tr>\n",
       "      <th>3</th>\n",
       "      <td>SP Narine</td>\n",
       "      <td>599</td>\n",
       "      <td>356</td>\n",
       "      <td>168.258427</td>\n",
       "    </tr>\n",
       "    <tr>\n",
       "      <th>4</th>\n",
       "      <td>SO Hetmyer</td>\n",
       "      <td>330</td>\n",
       "      <td>200</td>\n",
       "      <td>165.000000</td>\n",
       "    </tr>\n",
       "  </tbody>\n",
       "</table>\n",
       "</div>"
      ],
      "text/plain": [
       "           batter  batsman_run  ballnumber  strike_rate\n",
       "0      PJ Cummins          222         114   194.736842\n",
       "1      AD Russell          986         570   172.982456\n",
       "2  LS Livingstone          182         107   170.093458\n",
       "3       SP Narine          599         356   168.258427\n",
       "4      SO Hetmyer          330         200   165.000000"
      ]
     },
     "execution_count": 17,
     "metadata": {},
     "output_type": "execute_result"
    }
   ],
   "source": [
    "#2\n",
    "temp_df = df[~(df.extra_type == \"wides\")]\n",
    "temp_df = temp_df.groupby(\"batter\").agg(\n",
    "{\n",
    "    \"batsman_run\": \"sum\",\n",
    "    \"ballnumber\": \"count\"\n",
    "})\n",
    "temp_df[\"strike_rate\"] = temp_df[\"batsman_run\"] / temp_df[\"ballnumber\"] * 100\n",
    "temp_df[temp_df[\"ballnumber\"] >= 100].sort_values(\"strike_rate\", ascending = False).reset_index().head()\n"
   ]
  },
  {
   "cell_type": "markdown",
   "metadata": {
    "id": "Wr443WT0O2Qw"
   },
   "source": [
    "### `Q-6` Most Successful bowler against any batsman. Find that pair of bowler and batsman.\n",
    "> Most Successful in terms of dissmissal. A bowler who have dissmissed any batsman most no of times. If any two pairs have same no of dissmisal, consider runs conceded by bowler to that batsman. Those who have concede lesser runs is more successful."
   ]
  },
  {
   "cell_type": "code",
   "execution_count": null,
   "metadata": {
    "id": "oG1P4PT8O4u4",
    "outputId": "382fdb61-d6e2-4d84-9fa1-e3887661f913"
   },
   "outputs": [
    {
     "data": {
      "text/html": [
       "<div>\n",
       "<style scoped>\n",
       "    .dataframe tbody tr th:only-of-type {\n",
       "        vertical-align: middle;\n",
       "    }\n",
       "\n",
       "    .dataframe tbody tr th {\n",
       "        vertical-align: top;\n",
       "    }\n",
       "\n",
       "    .dataframe thead th {\n",
       "        text-align: right;\n",
       "    }\n",
       "</style>\n",
       "<table border=\"1\" class=\"dataframe\">\n",
       "  <thead>\n",
       "    <tr style=\"text-align: right;\">\n",
       "      <th></th>\n",
       "      <th></th>\n",
       "      <th>IsBatterOut</th>\n",
       "      <th>batsman_run</th>\n",
       "    </tr>\n",
       "    <tr>\n",
       "      <th>bowler</th>\n",
       "      <th>batter</th>\n",
       "      <th></th>\n",
       "      <th></th>\n",
       "    </tr>\n",
       "  </thead>\n",
       "  <tbody>\n",
       "    <tr>\n",
       "      <th>Z Khan</th>\n",
       "      <th>MS Dhoni</th>\n",
       "      <td>7</td>\n",
       "      <td>74</td>\n",
       "    </tr>\n",
       "    <tr>\n",
       "      <th>Sandeep Sharma</th>\n",
       "      <th>V Kohli</th>\n",
       "      <td>7</td>\n",
       "      <td>78</td>\n",
       "    </tr>\n",
       "    <tr>\n",
       "      <th>A Mishra</th>\n",
       "      <th>RG Sharma</th>\n",
       "      <td>7</td>\n",
       "      <td>87</td>\n",
       "    </tr>\n",
       "    <tr>\n",
       "      <th>R Ashwin</th>\n",
       "      <th>RV Uthappa</th>\n",
       "      <td>7</td>\n",
       "      <td>123</td>\n",
       "    </tr>\n",
       "    <tr>\n",
       "      <th>SP Narine</th>\n",
       "      <th>RG Sharma</th>\n",
       "      <td>7</td>\n",
       "      <td>137</td>\n",
       "    </tr>\n",
       "  </tbody>\n",
       "</table>\n",
       "</div>"
      ],
      "text/plain": [
       "                           IsBatterOut  batsman_run\n",
       "bowler         batter                              \n",
       "Z Khan         MS Dhoni              7           74\n",
       "Sandeep Sharma V Kohli               7           78\n",
       "A Mishra       RG Sharma             7           87\n",
       "R Ashwin       RV Uthappa            7          123\n",
       "SP Narine      RG Sharma             7          137"
      ]
     },
     "execution_count": 18,
     "metadata": {},
     "output_type": "execute_result"
    }
   ],
   "source": [
    "# code here\n",
    "balls[\"IsBatterOut\"] = balls.batter == balls.player_out\n",
    "balls.groupby([\"bowler\", \"batter\"]).agg({\n",
    "    \"IsBatterOut\": \"sum\",\n",
    "    \"batsman_run\": \"sum\"\n",
    "}).sort_values(by=[\"IsBatterOut\", \"batsman_run\"], ascending = [False, True]).head()"
   ]
  },
  {
   "cell_type": "markdown",
   "metadata": {
    "id": "7BP2EDkNO6KM"
   },
   "source": [
    "### `Q-7`: Most successful batting pair in IPL. Batting pair who have scored most runs playing together.\n"
   ]
  },
  {
   "cell_type": "code",
   "execution_count": null,
   "metadata": {
    "id": "lRlbTuarO80s",
    "outputId": "383470fd-3dca-413d-ce39-bc559eae6924"
   },
   "outputs": [
    {
     "data": {
      "text/plain": [
       "batter-pair\n",
       "AB de Villiers-V Kohli    3134\n",
       "CH Gayle-V Kohli          2802\n",
       "DA Warner-S Dhawan        2357\n",
       "G Gambhir-RV Uthappa      1906\n",
       "KL Rahul-MA Agarwal       1731\n",
       "Name: total_run, dtype: int64"
      ]
     },
     "execution_count": 20,
     "metadata": {},
     "output_type": "execute_result"
    }
   ],
   "source": [
    "# code here\n",
    "def func(x):\n",
    "    return '-'.join(list(np.sort(x.values)))\n",
    "balls[\"batter-pair\"] = balls[[\"batter\", \"non-striker\"]].apply(func, axis = 1)\n",
    "balls.groupby(\"batter-pair\")[\"total_run\"].sum().sort_values(ascending = False).head()"
   ]
  },
  {
   "cell_type": "markdown",
   "metadata": {
    "id": "gVJ2CnAxO-b0"
   },
   "source": [
    "### `Q-8:` Make a dataframe for all batting pairs played together.\n",
    "```\n",
    "Batsman1 Batsman2 Runs Avg StrikeRate\n",
    "```\n",
    "\n",
    "> Just to ease this question you can count wide-balls for strike rate."
   ]
  },
  {
   "cell_type": "code",
   "execution_count": null,
   "metadata": {
    "id": "S0bgMx_dPA9Y",
    "outputId": "94fa6c40-2046-43bd-e8b1-b3703c94636e"
   },
   "outputs": [
    {
     "data": {
      "text/html": [
       "<div>\n",
       "<style scoped>\n",
       "    .dataframe tbody tr th:only-of-type {\n",
       "        vertical-align: middle;\n",
       "    }\n",
       "\n",
       "    .dataframe tbody tr th {\n",
       "        vertical-align: top;\n",
       "    }\n",
       "\n",
       "    .dataframe thead th {\n",
       "        text-align: right;\n",
       "    }\n",
       "</style>\n",
       "<table border=\"1\" class=\"dataframe\">\n",
       "  <thead>\n",
       "    <tr style=\"text-align: right;\">\n",
       "      <th></th>\n",
       "      <th>Batsman 1</th>\n",
       "      <th>Batsman 2</th>\n",
       "      <th>Runs</th>\n",
       "      <th>Avg</th>\n",
       "      <th>StrikeRate</th>\n",
       "    </tr>\n",
       "  </thead>\n",
       "  <tbody>\n",
       "    <tr>\n",
       "      <th>302</th>\n",
       "      <td>AB de Villiers</td>\n",
       "      <td>V Kohli</td>\n",
       "      <td>3134</td>\n",
       "      <td>44.140845</td>\n",
       "      <td>152.209811</td>\n",
       "    </tr>\n",
       "    <tr>\n",
       "      <th>1251</th>\n",
       "      <td>CH Gayle</td>\n",
       "      <td>V Kohli</td>\n",
       "      <td>2802</td>\n",
       "      <td>52.867925</td>\n",
       "      <td>142.017233</td>\n",
       "    </tr>\n",
       "    <tr>\n",
       "      <th>1508</th>\n",
       "      <td>DA Warner</td>\n",
       "      <td>S Dhawan</td>\n",
       "      <td>2357</td>\n",
       "      <td>48.102041</td>\n",
       "      <td>136.637681</td>\n",
       "    </tr>\n",
       "    <tr>\n",
       "      <th>1954</th>\n",
       "      <td>G Gambhir</td>\n",
       "      <td>RV Uthappa</td>\n",
       "      <td>1906</td>\n",
       "      <td>39.708333</td>\n",
       "      <td>133.754386</td>\n",
       "    </tr>\n",
       "    <tr>\n",
       "      <th>2803</th>\n",
       "      <td>KL Rahul</td>\n",
       "      <td>MA Agarwal</td>\n",
       "      <td>1731</td>\n",
       "      <td>52.454545</td>\n",
       "      <td>142.939719</td>\n",
       "    </tr>\n",
       "    <tr>\n",
       "      <th>...</th>\n",
       "      <td>...</td>\n",
       "      <td>...</td>\n",
       "      <td>...</td>\n",
       "      <td>...</td>\n",
       "      <td>...</td>\n",
       "    </tr>\n",
       "    <tr>\n",
       "      <th>350</th>\n",
       "      <td>AD Mascarenhas</td>\n",
       "      <td>Gurkeerat Singh</td>\n",
       "      <td>0</td>\n",
       "      <td>0.000000</td>\n",
       "      <td>0.000000</td>\n",
       "    </tr>\n",
       "    <tr>\n",
       "      <th>3552</th>\n",
       "      <td>NLTC Perera</td>\n",
       "      <td>RV Gomez</td>\n",
       "      <td>0</td>\n",
       "      <td>0.000000</td>\n",
       "      <td>0.000000</td>\n",
       "    </tr>\n",
       "    <tr>\n",
       "      <th>2270</th>\n",
       "      <td>Iqbal Abdulla</td>\n",
       "      <td>TS Mills</td>\n",
       "      <td>0</td>\n",
       "      <td>0.000000</td>\n",
       "      <td>0.000000</td>\n",
       "    </tr>\n",
       "    <tr>\n",
       "      <th>3556</th>\n",
       "      <td>NM Coulter</td>\n",
       "      <td>Nile</td>\n",
       "      <td>0</td>\n",
       "      <td>0.000000</td>\n",
       "      <td>0.000000</td>\n",
       "    </tr>\n",
       "    <tr>\n",
       "      <th>2928</th>\n",
       "      <td>Kartik Tyagi</td>\n",
       "      <td>Shashank Singh</td>\n",
       "      <td>0</td>\n",
       "      <td>0.000000</td>\n",
       "      <td>0.000000</td>\n",
       "    </tr>\n",
       "  </tbody>\n",
       "</table>\n",
       "<p>4259 rows × 5 columns</p>\n",
       "</div>"
      ],
      "text/plain": [
       "           Batsman 1        Batsman 2  Runs        Avg  StrikeRate\n",
       "302   AB de Villiers          V Kohli  3134  44.140845  152.209811\n",
       "1251        CH Gayle          V Kohli  2802  52.867925  142.017233\n",
       "1508       DA Warner         S Dhawan  2357  48.102041  136.637681\n",
       "1954       G Gambhir       RV Uthappa  1906  39.708333  133.754386\n",
       "2803        KL Rahul       MA Agarwal  1731  52.454545  142.939719\n",
       "...              ...              ...   ...        ...         ...\n",
       "350   AD Mascarenhas  Gurkeerat Singh     0   0.000000    0.000000\n",
       "3552     NLTC Perera         RV Gomez     0   0.000000    0.000000\n",
       "2270   Iqbal Abdulla         TS Mills     0   0.000000    0.000000\n",
       "3556      NM Coulter             Nile     0   0.000000    0.000000\n",
       "2928    Kartik Tyagi   Shashank Singh     0   0.000000    0.000000\n",
       "\n",
       "[4259 rows x 5 columns]"
      ]
     },
     "execution_count": 27,
     "metadata": {},
     "output_type": "execute_result"
    }
   ],
   "source": [
    "# code here\n",
    "temp_df = balls.groupby(\"batter-pair\").agg(\n",
    "{\n",
    "    \"total_run\": \"sum\",\n",
    "    \"ballnumber\": \"count\",\n",
    "    \"isWicketDelivery\": \"sum\"\n",
    "}).reset_index()\n",
    "temp_df[\"Batsman 1\"] = temp_df[\"batter-pair\"].apply(lambda x: x.split(\"-\")[0])\n",
    "temp_df[\"Batsman 2\"] = temp_df[\"batter-pair\"].apply(lambda x: x.split(\"-\")[1])\n",
    "temp_df.rename(columns = {\"total_run\": \"Runs\"}, inplace=True)\n",
    "temp_df[\"StrikeRate\"] = temp_df[\"Runs\"] / temp_df[\"ballnumber\"] * 100\n",
    "temp_df[\"Avg\"] = temp_df[\"Runs\"] / temp_df[\"isWicketDelivery\"]\n",
    "temp_df.sort_values(\"Runs\", ascending = False, inplace=  True)\n",
    "temp_df[[\"Batsman 1\", \"Batsman 2\", \"Runs\", \"Avg\", \"StrikeRate\"]]"
   ]
  },
  {
   "cell_type": "code",
   "execution_count": null,
   "metadata": {
    "id": "zPY5L5i-RDrp"
   },
   "outputs": [],
   "source": []
  }
 ],
 "metadata": {
  "colab": {
   "provenance": []
  },
  "kernelspec": {
   "display_name": "Python 3 (ipykernel)",
   "language": "python",
   "name": "python3"
  },
  "language_info": {
   "codemirror_mode": {
    "name": "ipython",
    "version": 3
   },
   "file_extension": ".py",
   "mimetype": "text/x-python",
   "name": "python",
   "nbconvert_exporter": "python",
   "pygments_lexer": "ipython3",
   "version": "3.9.13"
  }
 },
 "nbformat": 4,
 "nbformat_minor": 1
}
